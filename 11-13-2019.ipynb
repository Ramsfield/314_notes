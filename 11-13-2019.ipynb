{
 "cells": [
  {
   "cell_type": "code",
   "execution_count": 6,
   "metadata": {},
   "outputs": [],
   "source": [
    "import numpy as np\n",
    "import pandas as pd\n",
    "from scipy.stats import norm as normal, binom\n",
    "import bplot as bp\n",
    "from scipy.optimize import minimize\n",
    "from scipy.special import loggamma\n",
    "import patsy\n",
    "from joblib import Parallel, delayed"
   ]
  },
  {
   "cell_type": "code",
   "execution_count": 4,
   "metadata": {},
   "outputs": [],
   "source": [
    "def ll_normal(beta, yX):\n",
    "    y = yX[:, 0]\n",
    "    X = yX[:, 1:]\n",
    "    N = X.shape[0]\n",
    "    mu = np.full(N, np.nan)\n",
    "    for n in range(N):\n",
    "        mu[n] = np.sum(X[n, :] * beta)\n",
    "        \n",
    "    d = y - mu\n",
    "    return np.sum(d*d)\n",
    "\n",
    "def optim(data, initval = None):\n",
    "    k = data.shape[1]-1\n",
    "    return minimize(ll_normal, (initval if initval else np.random.normal(size = k)), args=(data), method=\"BFGS\")[\"x\"]\n",
    "\n",
    "def bootstrap(data, R, fun):\n",
    "    N, k = data.shape\n",
    "    k -= 1\n",
    "    thetas = np.full((R, k), np.nan)\n",
    "    for r in range(R):\n",
    "        idx = np.random.choice(N, N, replace=True)\n",
    "        thetas[r, :] = fun(data[idx, :])\n",
    "    return thetas"
   ]
  },
  {
   "cell_type": "markdown",
   "metadata": {},
   "source": [
    "# 13 November, 2019"
   ]
  },
  {
   "cell_type": "markdown",
   "metadata": {},
   "source": [
    "We are going to be using joblib library to parrallelize the bootstrap method to make it run faster."
   ]
  },
  {
   "cell_type": "markdown",
   "metadata": {},
   "source": [
    "## New Model -- Simple Linear Regression"
   ]
  },
  {
   "cell_type": "code",
   "execution_count": 7,
   "metadata": {},
   "outputs": [],
   "source": [
    "df = pd.read_csv(\"https://raw.githubusercontent.com/roualdes/data/master/possum.csv\")"
   ]
  },
  {
   "cell_type": "markdown",
   "metadata": {},
   "source": [
    "### Building off the two sample mean model\n",
    "$$Y_n\\sim N(\\mu_n,\\sigma^2)$$\n",
    "We decided that the mean should be represented by\n",
    "$$\\mu_n=\\beta_0+\\beta_1*x_n$$ \n",
    "Which displays an offset from a base sample group.\n",
    "\n",
    "The only thing that will change, is taking the categorical X-axis variable and making it numeric.  \n",
    "So if we had a new plot, we would have numeric variables on both the X-axis and Y-axis. We are going to attempt to place a **best fitting** line through this data. Where we can state the mean for any given variable based off the function of the line.\n",
    "\n",
    "We often think of the variable on the X-axis as **explanatory**.\n",
    "\n",
    "For instance, in our possoms, we can allow age to explain lengths.\n",
    "\n",
    "The lengths (on the Y-axis) would be the **response**"
   ]
  },
  {
   "cell_type": "code",
   "execution_count": 9,
   "metadata": {},
   "outputs": [
    {
     "data": {
      "text/plain": [
       "<matplotlib.collections.PathCollection at 0x7f515ff768d0>"
      ]
     },
     "execution_count": 9,
     "metadata": {},
     "output_type": "execute_result"
    },
    {
     "data": {
      "image/png": "[encoded data removed]",
      "text/plain": [
       "<Figure size 432x288 with 1 Axes>"
      ]
     },
     "metadata": {
      "needs_background": "light"
     },
     "output_type": "display_data"
    }
   ],
   "source": [
    "##Using Total Length and Tail Length\n",
    "bp.point(df['tailL'], df['totalL'])"
   ]
  },
  {
   "cell_type": "code",
   "execution_count": 12,
   "metadata": {},
   "outputs": [],
   "source": [
    "X = patsy.dmatrix(\"~ tailL\", data=df)\n",
    "yX = np.c_[df['totalL'],X]"
   ]
  },
  {
   "cell_type": "code",
   "execution_count": 13,
   "metadata": {},
   "outputs": [
    {
     "data": {
      "text/plain": [
       "array([[ 1. , 36. ],\n",
       "       [ 1. , 36.5],\n",
       "       [ 1. , 39. ],\n",
       "       [ 1. , 38. ],\n",
       "       [ 1. , 36. ]])"
      ]
     },
     "execution_count": 13,
     "metadata": {},
     "output_type": "execute_result"
    }
   ],
   "source": [
    "X[:5, :]"
   ]
  },
  {
   "cell_type": "markdown",
   "metadata": {},
   "source": [
    "The design matrix holds the same logic as previous -- the intercept ($\\beta_0$) and a column of every value that $x_n$ might take on. This is the same logic we've had previously, just $x_n$ is no longer just 1's and 0's, it's the true values as it corresponds to the X-axis\n",
    "\n",
    "Our goal is to find the line that cuts through the data the best. We need to find the estimates for the intercept and the slope $\\beta_0$ and $\\beta_1$ respectively. \n",
    "\n",
    "github.com/roualdes/interactivestatistics -- An interactive web page to attempt to help explain models.\n",
    "\n",
    "**Line of best fit** We are interested in the line that finds the minimum squared distance to each observation\n",
    "\n",
    "Using all the data points in X, and all the points in Y, we are looking for two parameters."
   ]
  },
  {
   "cell_type": "code",
   "execution_count": 14,
   "metadata": {},
   "outputs": [
    {
     "data": {
      "text/plain": [
       "array([41.03721823,  1.24430483])"
      ]
     },
     "execution_count": 14,
     "metadata": {},
     "output_type": "execute_result"
    }
   ],
   "source": [
    "optim(yX)"
   ]
  },
  {
   "cell_type": "markdown",
   "metadata": {},
   "source": [
    "#### The Y intercept: 41.0 cm\n",
    "When tail length is equal to 0cm, total length of a possum is expected to be 41.0cm.\n",
    "\n",
    "#### The Slope:\n",
    "Run first, then rise. As the explanatory variable increases, we can see an observation in the response.  \n",
    "For our example:  \n",
    "For every 1cm increase in tail length, we expect total length of possums to increase by 1.2cm\n",
    "\n",
    "Due to the fact that the units on the X axis will cancel, we can compare any values to other values regardless of units.\n",
    "\n",
    "Our intercept ($\\beta_0$) will often be weird and incorrect (often negative) due to the fact that we don't have any/many observations of low end variables."
   ]
  },
  {
   "cell_type": "code",
   "execution_count": 15,
   "metadata": {},
   "outputs": [
    {
     "name": "stderr",
     "output_type": "stream",
     "text": [
      "/home/ramsfield/anaconda3/lib/python3.7/site-packages/scipy/optimize/optimize.py:1046: RuntimeWarning: divide by zero encountered in double_scalars\n",
      "  rhok = 1.0 / (numpy.dot(yk, sk))\n",
      "/home/ramsfield/anaconda3/lib/python3.7/site-packages/scipy/optimize/optimize.py:1046: RuntimeWarning: divide by zero encountered in double_scalars\n",
      "  rhok = 1.0 / (numpy.dot(yk, sk))\n",
      "/home/ramsfield/anaconda3/lib/python3.7/site-packages/scipy/optimize/optimize.py:1046: RuntimeWarning: divide by zero encountered in double_scalars\n",
      "  rhok = 1.0 / (numpy.dot(yk, sk))\n"
     ]
    }
   ],
   "source": [
    "betas = bootstrap(yX, 1001, optim)"
   ]
  },
  {
   "cell_type": "code",
   "execution_count": 16,
   "metadata": {},
   "outputs": [
    {
     "data": {
      "text/plain": [
       "array([[33.32832607,  1.03171948],\n",
       "       [49.16143996,  1.44729033]])"
      ]
     },
     "execution_count": 16,
     "metadata": {},
     "output_type": "execute_result"
    }
   ],
   "source": [
    "np.percentile(betas, [10,90], axis=0)"
   ]
  },
  {
   "cell_type": "markdown",
   "metadata": {},
   "source": [
    "We are 80% certain that the true total length of a possum without a tail (or tail length of 0cm) is between 33.33cm and 49.16cm.  \n",
    "We are 80% certain that for every 1cm of tail length of a possum, the total length increases between 1.03cm and 1.45cm."
   ]
  },
  {
   "cell_type": "markdown",
   "metadata": {},
   "source": [
    "**Extrapolation** - Predict outside of the range of data. For instance, we *extrapolate* the data of when the tail length is 0 even though we have no observations of it. Extrapolation is dangerous due to the fact that they aren't reliable, but they're what we want, most of the time (extrapolate stock market increases)"
   ]
  },
  {
   "cell_type": "code",
   "execution_count": 19,
   "metadata": {},
   "outputs": [
    {
     "data": {
      "text/plain": [
       "<matplotlib.collections.PathCollection at 0x7f515dd69c18>"
      ]
     },
     "execution_count": 19,
     "metadata": {},
     "output_type": "execute_result"
    },
    {
     "data": {
      "image/png": "[encoded data removed]",
      "text/plain": [
       "<Figure size 432x288 with 1 Axes>"
      ]
     },
     "metadata": {
      "needs_background": "light"
     },
     "output_type": "display_data"
    }
   ],
   "source": [
    "bp.point(df['headL'], df['skullW'])"
   ]
  },
  {
   "cell_type": "code",
   "execution_count": 20,
   "metadata": {},
   "outputs": [],
   "source": [
    "X = patsy.dmatrix(\"~ headL\", data=df)\n",
    "yX = np.c_[df['skullW'],X]"
   ]
  },
  {
   "cell_type": "code",
   "execution_count": 21,
   "metadata": {},
   "outputs": [
    {
     "data": {
      "text/plain": [
       "array([-0.46826597,  0.61933189])"
      ]
     },
     "execution_count": 21,
     "metadata": {},
     "output_type": "execute_result"
    }
   ],
   "source": [
    "optim(yX)"
   ]
  },
  {
   "cell_type": "code",
   "execution_count": 22,
   "metadata": {},
   "outputs": [
    {
     "name": "stderr",
     "output_type": "stream",
     "text": [
      "/home/ramsfield/anaconda3/lib/python3.7/site-packages/scipy/optimize/optimize.py:1046: RuntimeWarning: divide by zero encountered in double_scalars\n",
      "  rhok = 1.0 / (numpy.dot(yk, sk))\n",
      "/home/ramsfield/anaconda3/lib/python3.7/site-packages/scipy/optimize/optimize.py:1046: RuntimeWarning: divide by zero encountered in double_scalars\n",
      "  rhok = 1.0 / (numpy.dot(yk, sk))\n",
      "/home/ramsfield/anaconda3/lib/python3.7/site-packages/scipy/optimize/optimize.py:1046: RuntimeWarning: divide by zero encountered in double_scalars\n",
      "  rhok = 1.0 / (numpy.dot(yk, sk))\n",
      "/home/ramsfield/anaconda3/lib/python3.7/site-packages/scipy/optimize/optimize.py:1046: RuntimeWarning: divide by zero encountered in double_scalars\n",
      "  rhok = 1.0 / (numpy.dot(yk, sk))\n"
     ]
    }
   ],
   "source": [
    "betas = bootstrap(yX, 1001, optim)"
   ]
  },
  {
   "cell_type": "code",
   "execution_count": 23,
   "metadata": {},
   "outputs": [
    {
     "data": {
      "text/plain": [
       "array([[-5.77609299,  0.56275492],\n",
       "       [ 4.73684885,  0.67855795]])"
      ]
     },
     "execution_count": 23,
     "metadata": {},
     "output_type": "execute_result"
    }
   ],
   "source": [
    "np.percentile(betas, [10,90], axis=0)"
   ]
  }
 ],
 "metadata": {
  "kernelspec": {
   "display_name": "Python 3",
   "language": "python",
   "name": "python3"
  },
  "language_info": {
   "codemirror_mode": {
    "name": "ipython",
    "version": 3
   },
   "file_extension": ".py",
   "mimetype": "text/x-python",
   "name": "python",
   "nbconvert_exporter": "python",
   "pygments_lexer": "ipython3",
   "version": "3.7.3"
  }
 },
 "nbformat": 4,
 "nbformat_minor": 2
}
