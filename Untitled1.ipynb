{
 "cells": [
  {
   "cell_type": "markdown",
   "metadata": {},
   "source": [
    "# 18, October 2019"
   ]
  },
  {
   "cell_type": "code",
   "execution_count": 1,
   "metadata": {},
   "outputs": [],
   "source": [
    "import numpy as np\n",
    "import pandas as pd\n",
    "from scipy.stats import norm as normal, binom\n",
    "import bplot as bp\n",
    "from scipy.optimize import minimize\n",
    "from scipy.special import loggamma"
   ]
  },
  {
   "cell_type": "markdown",
   "metadata": {},
   "source": [
    "## Percentile\n",
    "## Side 1:\n",
    "**CLT** As if the function of our data is the sample mean  \n",
    "We know know the sample means are approximately a normal distribution $N(\\mu,\\frac{\\sigma^2}{N})$  \n",
    "The density function centers over $\\mu$ with width standard error $\\frac{\\sigma}{\\sqrt{N}}$  \n",
    "**__Goal__**: Have a range of numbers and a percent chance the parameter is withink this range.  \n",
    "For now we'll take two numbers $\\pi_{0.025}$ that has 2.5% area to the left and $\\pi_{0.975}$ that has 97.5% area to the left. This gives us a range that we're 95% certain the parameter lives.\n",
    "\n",
    "\n",
    "When we have some best guess, we can have some confidence interval (assuming the interval is perectly symmetric)\n",
    "$$\\hat{\\mu}\\pm\\frac{\\sigma}{\\sqrt{N}}$$\n"
   ]
  },
  {
   "cell_type": "code",
   "execution_count": 4,
   "metadata": {},
   "outputs": [
    {
     "name": "stdout",
     "output_type": "stream",
     "text": [
      "[-1.89389122  1.93077815]\n"
     ]
    },
    {
     "data": {
      "text/plain": [
       "array([-1.95996398,  1.95996398])"
      ]
     },
     "execution_count": 4,
     "metadata": {},
     "output_type": "execute_result"
    }
   ],
   "source": [
    "muhats = np.random.normal(size=999)\n",
    "print(np.percentile(muhats, [2.5, 97.5]))\n",
    "normal(0,1).ppf([0.025,0.975])"
   ]
  },
  {
   "cell_type": "markdown",
   "metadata": {},
   "source": [
    "## Side 2:\n",
    "$T(\\underline{x})$ is not necessarily the sample mean\n",
    "\n",
    "Suppose you have an array:  \n",
    "$T_1,\\dots, T_R\\sim?$  \n",
    "We can at least estimate the sampling distribution. We are gaining confidence that it will be centered at some population parameter, and will have some standard error -- the standard deviation.\n",
    "\n",
    "From here we can evalutate the percentiles without assuming the sampling distribution is symmetric."
   ]
  },
  {
   "cell_type": "code",
   "execution_count": 16,
   "metadata": {},
   "outputs": [
    {
     "name": "stdout",
     "output_type": "stream",
     "text": [
      "[2.83227317 3.12344756]\n"
     ]
    }
   ],
   "source": [
    "X = np.random.normal(np.pi, 2, size=999)\n",
    "R = 1001\n",
    "medhats = np.full(R, np.nan)\n",
    "for r in range(R):\n",
    "    medhats[r] = np.median(np.random.choice(X, replace=True, size=X.size))\n",
    "print(np.percentile(medhats, [2.5, 97.5]))"
   ]
  },
  {
   "cell_type": "markdown",
   "metadata": {},
   "source": [
    "There are two ways we can get a narrower confidence interval, more sampling will make the sampling distribution skinnier, or being more uncertain will lower our interval"
   ]
  }
 ],
 "metadata": {
  "kernelspec": {
   "display_name": "Python 3",
   "language": "python",
   "name": "python3"
  },
  "language_info": {
   "codemirror_mode": {
    "name": "ipython",
    "version": 3
   },
   "file_extension": ".py",
   "mimetype": "text/x-python",
   "name": "python",
   "nbconvert_exporter": "python",
   "pygments_lexer": "ipython3",
   "version": "3.7.3"
  }
 },
 "nbformat": 4,
 "nbformat_minor": 2
}
