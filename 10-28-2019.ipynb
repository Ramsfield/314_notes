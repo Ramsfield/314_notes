{
 "cells": [
  {
   "cell_type": "code",
   "execution_count": 3,
   "metadata": {},
   "outputs": [],
   "source": [
    "import numpy as np\n",
    "import pandas as pd\n",
    "from scipy.stats import norm as normal, binom\n",
    "import bplot as bp\n",
    "from scipy.optimize import minimize\n",
    "from scipy.special import loggamma\n",
    "import patsy"
   ]
  },
  {
   "cell_type": "markdown",
   "metadata": {},
   "source": [
    "# 28, October 2019"
   ]
  },
  {
   "cell_type": "code",
   "execution_count": 16,
   "metadata": {},
   "outputs": [],
   "source": [
    "def ll_normal(beta, yX):\n",
    "    y = yX[:, 0]\n",
    "    X = yX[:, 1:]\n",
    "    N = X.shape[0]\n",
    "    mu = np.full(N, np.nan)\n",
    "    for n in range(N):\n",
    "        mu[n] = np.sum(X[n, :] * beta)\n",
    "        \n",
    "    d = y - mu\n",
    "    return np.sum(d*d)\n",
    "\n",
    "def optim(data, initval = None):\n",
    "    return minimize(ll_normal, (initval if initval else np.random.normal()), args=(data), method=\"BFGS\")[\"x\"]\n",
    "\n",
    "def bootstrap(data, R, fun, confidence=87):\n",
    "    N = data.size\n",
    "    thetas = np.full(R, np.nan)\n",
    "    for r in range(R):\n",
    "        idx = np.random.choice(N, N, replace=True)\n",
    "        thetas[r] = fun(data[idx])\n",
    "    cmin = (100-confidence)/2\n",
    "    cmax = cmin + confidence\n",
    "    return np.percentile(thetas, [cmin, cmax])"
   ]
  },
  {
   "cell_type": "markdown",
   "metadata": {},
   "source": [
    "## Two-Sample Means\n",
    "\n",
    "Are the means of total lengths different for the different populations, for our dataset of possums. We are interested in the different means of two different populations and comparing them.\n",
    "\n",
    "To do this, we will take the means of the first alphabetical item $ \\beta _0 $ and compare it to the next mean, the difference being $\\beta_1$"
   ]
  },
  {
   "cell_type": "code",
   "execution_count": 6,
   "metadata": {},
   "outputs": [
    {
     "data": {
      "text/html": [
       "<div>\n",
       "<style scoped>\n",
       "    .dataframe tbody tr th:only-of-type {\n",
       "        vertical-align: middle;\n",
       "    }\n",
       "\n",
       "    .dataframe tbody tr th {\n",
       "        vertical-align: top;\n",
       "    }\n",
       "\n",
       "    .dataframe thead th {\n",
       "        text-align: right;\n",
       "    }\n",
       "</style>\n",
       "<table border=\"1\" class=\"dataframe\">\n",
       "  <thead>\n",
       "    <tr style=\"text-align: right;\">\n",
       "      <th></th>\n",
       "      <th>site</th>\n",
       "      <th>pop</th>\n",
       "      <th>sex</th>\n",
       "      <th>age</th>\n",
       "      <th>headL</th>\n",
       "      <th>skullW</th>\n",
       "      <th>totalL</th>\n",
       "      <th>tailL</th>\n",
       "    </tr>\n",
       "  </thead>\n",
       "  <tbody>\n",
       "    <tr>\n",
       "      <td>0</td>\n",
       "      <td>1</td>\n",
       "      <td>vic</td>\n",
       "      <td>m</td>\n",
       "      <td>8.0</td>\n",
       "      <td>94.1</td>\n",
       "      <td>60.4</td>\n",
       "      <td>89.0</td>\n",
       "      <td>36.0</td>\n",
       "    </tr>\n",
       "    <tr>\n",
       "      <td>1</td>\n",
       "      <td>1</td>\n",
       "      <td>vic</td>\n",
       "      <td>f</td>\n",
       "      <td>6.0</td>\n",
       "      <td>92.5</td>\n",
       "      <td>57.6</td>\n",
       "      <td>91.5</td>\n",
       "      <td>36.5</td>\n",
       "    </tr>\n",
       "    <tr>\n",
       "      <td>2</td>\n",
       "      <td>1</td>\n",
       "      <td>vic</td>\n",
       "      <td>f</td>\n",
       "      <td>6.0</td>\n",
       "      <td>94.0</td>\n",
       "      <td>60.0</td>\n",
       "      <td>95.5</td>\n",
       "      <td>39.0</td>\n",
       "    </tr>\n",
       "    <tr>\n",
       "      <td>3</td>\n",
       "      <td>1</td>\n",
       "      <td>vic</td>\n",
       "      <td>f</td>\n",
       "      <td>6.0</td>\n",
       "      <td>93.2</td>\n",
       "      <td>57.1</td>\n",
       "      <td>92.0</td>\n",
       "      <td>38.0</td>\n",
       "    </tr>\n",
       "    <tr>\n",
       "      <td>4</td>\n",
       "      <td>1</td>\n",
       "      <td>vic</td>\n",
       "      <td>f</td>\n",
       "      <td>2.0</td>\n",
       "      <td>91.5</td>\n",
       "      <td>56.3</td>\n",
       "      <td>85.5</td>\n",
       "      <td>36.0</td>\n",
       "    </tr>\n",
       "  </tbody>\n",
       "</table>\n",
       "</div>"
      ],
      "text/plain": [
       "   site  pop sex  age  headL  skullW  totalL  tailL\n",
       "0     1  vic   m  8.0   94.1    60.4    89.0   36.0\n",
       "1     1  vic   f  6.0   92.5    57.6    91.5   36.5\n",
       "2     1  vic   f  6.0   94.0    60.0    95.5   39.0\n",
       "3     1  vic   f  6.0   93.2    57.1    92.0   38.0\n",
       "4     1  vic   f  2.0   91.5    56.3    85.5   36.0"
      ]
     },
     "execution_count": 6,
     "metadata": {},
     "output_type": "execute_result"
    }
   ],
   "source": [
    "df = pd.read_csv(\"https://raw.githubusercontent.com/roualdes/data/master/possum.csv\")\n",
    "df.head()"
   ]
  },
  {
   "cell_type": "code",
   "execution_count": 17,
   "metadata": {},
   "outputs": [],
   "source": [
    "X = patsy.dmatrix(\" ~C(pop)\", data=df)\n",
    "\n",
    "yX = np.c_[df[\"totalL\"], X]"
   ]
  },
  {
   "cell_type": "code",
   "execution_count": 95,
   "metadata": {},
   "outputs": [
    {
     "data": {
      "text/html": [
       "<div>\n",
       "<style scoped>\n",
       "    .dataframe tbody tr th:only-of-type {\n",
       "        vertical-align: middle;\n",
       "    }\n",
       "\n",
       "    .dataframe tbody tr th {\n",
       "        vertical-align: top;\n",
       "    }\n",
       "\n",
       "    .dataframe thead th {\n",
       "        text-align: right;\n",
       "    }\n",
       "</style>\n",
       "<table border=\"1\" class=\"dataframe\">\n",
       "  <thead>\n",
       "    <tr style=\"text-align: right;\">\n",
       "      <th></th>\n",
       "      <th>site</th>\n",
       "      <th>age</th>\n",
       "      <th>headL</th>\n",
       "      <th>skullW</th>\n",
       "      <th>totalL</th>\n",
       "      <th>tailL</th>\n",
       "    </tr>\n",
       "    <tr>\n",
       "      <th>pop</th>\n",
       "      <th></th>\n",
       "      <th></th>\n",
       "      <th></th>\n",
       "      <th></th>\n",
       "      <th></th>\n",
       "      <th></th>\n",
       "    </tr>\n",
       "  </thead>\n",
       "  <tbody>\n",
       "    <tr>\n",
       "      <td>other</td>\n",
       "      <td>5.482759</td>\n",
       "      <td>3.689655</td>\n",
       "      <td>92.606897</td>\n",
       "      <td>57.065517</td>\n",
       "      <td>86.787931</td>\n",
       "      <td>37.862069</td>\n",
       "    </tr>\n",
       "    <tr>\n",
       "      <td>vic</td>\n",
       "      <td>1.282609</td>\n",
       "      <td>4.022727</td>\n",
       "      <td>92.597826</td>\n",
       "      <td>56.654348</td>\n",
       "      <td>87.467391</td>\n",
       "      <td>35.934783</td>\n",
       "    </tr>\n",
       "  </tbody>\n",
       "</table>\n",
       "</div>"
      ],
      "text/plain": [
       "           site       age      headL     skullW     totalL      tailL\n",
       "pop                                                                  \n",
       "other  5.482759  3.689655  92.606897  57.065517  86.787931  37.862069\n",
       "vic    1.282609  4.022727  92.597826  56.654348  87.467391  35.934783"
      ]
     },
     "execution_count": 95,
     "metadata": {},
     "output_type": "execute_result"
    }
   ],
   "source": [
    "minimize(ll_normal, np.random.normal(size=2), args=(yX), method=\"BFGS\")[\"x\"]\n",
    "\n",
    "df.groupby('pop').agg(\"mean\")"
   ]
  },
  {
   "cell_type": "code",
   "execution_count": 101,
   "metadata": {},
   "outputs": [
    {
     "data": {
      "text/plain": [
       "<matplotlib.axes._subplots.AxesSubplot at 0x7f68264e39e8>"
      ]
     },
     "execution_count": 101,
     "metadata": {},
     "output_type": "execute_result"
    },
    {
     "data": {
      "image/png": "[encoded data removed]",
      "text/plain": [
       "<Figure size 432x288 with 1 Axes>"
      ]
     },
     "metadata": {
      "needs_background": "light"
     },
     "output_type": "display_data"
    }
   ],
   "source": [
    "for i, (name, gdf) in enumerate(df.groupby('pop')):\n",
    "    bp.jitter(np.repeat(i, gdf['totalL'].size), gdf['totalL'], jitter_y=0, label=name, color = bp.color[i])\n",
    "bp.legend()"
   ]
  }
 ],
 "metadata": {
  "kernelspec": {
   "display_name": "Python 3",
   "language": "python",
   "name": "python3"
  },
  "language_info": {
   "codemirror_mode": {
    "name": "ipython",
    "version": 3
   },
   "file_extension": ".py",
   "mimetype": "text/x-python",
   "name": "python",
   "nbconvert_exporter": "python",
   "pygments_lexer": "ipython3",
   "version": "3.7.3"
  }
 },
 "nbformat": 4,
 "nbformat_minor": 2
}
