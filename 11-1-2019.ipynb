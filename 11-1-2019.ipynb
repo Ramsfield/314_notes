{
 "cells": [
  {
   "cell_type": "code",
   "execution_count": 1,
   "metadata": {},
   "outputs": [],
   "source": [
    "import numpy as np\n",
    "import pandas as pd\n",
    "from scipy.stats import norm as normal, binom\n",
    "import bplot as bp\n",
    "from scipy.optimize import minimize\n",
    "from scipy.special import loggamma\n",
    "import patsy"
   ]
  },
  {
   "cell_type": "code",
   "execution_count": 2,
   "metadata": {},
   "outputs": [],
   "source": [
    "def ll_normal(beta, yX):\n",
    "    y = yX[:, 0]\n",
    "    X = yX[:, 1:]\n",
    "    N = X.shape[0]\n",
    "    mu = np.full(N, np.nan)\n",
    "    for n in range(N):\n",
    "        mu[n] = np.sum(X[n, :] * beta)\n",
    "        \n",
    "    d = y - mu\n",
    "    return np.sum(d*d)\n",
    "\n",
    "def optim(data, initval = None):\n",
    "    k = data.shape[1]-1\n",
    "    return minimize(ll_normal, (initval if initval else np.random.normal(size = k)), args=(data), method=\"BFGS\")[\"x\"]\n",
    "\n",
    "def bootstrap(data, R, fun):\n",
    "    N, k = data.shape\n",
    "    k -= 1\n",
    "    thetas = np.full((R, k), np.nan)\n",
    "    for r in range(R):\n",
    "        idx = np.random.choice(N, N, replace=True)\n",
    "        thetas[r, :] = fun(data[idx, :])\n",
    "    return thetas"
   ]
  },
  {
   "cell_type": "markdown",
   "metadata": {},
   "source": [
    "# 01 November, 2019"
   ]
  },
  {
   "cell_type": "code",
   "execution_count": 3,
   "metadata": {},
   "outputs": [],
   "source": [
    "df = pd.read_csv(\"https://raw.githubusercontent.com/roualdes/data/master/possum.csv\")\n",
    "X = patsy.dmatrix(\" ~C(pop)\", data=df)\n",
    "yX = np.c_[df[\"totalL\"], X]"
   ]
  },
  {
   "cell_type": "markdown",
   "metadata": {},
   "source": [
    "## The Model\n",
    "$$Y_n \\sim N(\\mu_n,\\sigma^2)$$\n",
    "$$\\mu_n=\\beta_0 + \\beta_1*x_n$$"
   ]
  },
  {
   "cell_type": "code",
   "execution_count": 5,
   "metadata": {},
   "outputs": [],
   "source": [
    "mus = bootstrap(yX, 1001, optim)"
   ]
  },
  {
   "cell_type": "code",
   "execution_count": 12,
   "metadata": {},
   "outputs": [
    {
     "data": {
      "text/plain": [
       "array([[85.82295085, 87.76206903],\n",
       "       [-1.02385213,  2.22041797]])"
      ]
     },
     "execution_count": 12,
     "metadata": {},
     "output_type": "execute_result"
    }
   ],
   "source": [
    "np.percentile(mus, [2.5, 97.5], axis=0).T"
   ]
  },
  {
   "cell_type": "code",
   "execution_count": 18,
   "metadata": {},
   "outputs": [
    {
     "data": {
      "text/plain": [
       "array([86.06363645, 88.77500018])"
      ]
     },
     "execution_count": 18,
     "metadata": {},
     "output_type": "execute_result"
    }
   ],
   "source": [
    "np.percentile(mus.sum(axis=1), [2.5, 97.5])"
   ]
  }
 ],
 "metadata": {
  "kernelspec": {
   "display_name": "Python 3",
   "language": "python",
   "name": "python3"
  },
  "language_info": {
   "codemirror_mode": {
    "name": "ipython",
    "version": 3
   },
   "file_extension": ".py",
   "mimetype": "text/x-python",
   "name": "python",
   "nbconvert_exporter": "python",
   "pygments_lexer": "ipython3",
   "version": "3.7.3"
  }
 },
 "nbformat": 4,
 "nbformat_minor": 2
}
