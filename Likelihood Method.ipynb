{
 "cells": [
  {
   "cell_type": "markdown",
   "metadata": {},
   "source": [
    "$X_1,...,X_N\\sim\\text{Binomial}(k,p)$  \n",
    "$L(p|\\underline{x},k)=\\prod_{n=1}^{N}\\big(^k_{x_n}\\big)p^{x_n}(1-p)^{k-x_n}$\n",
    "\n",
    "To find the maximum, we:  \n",
    "  0. Take natural log\n",
    "  1. Take the derivative with respect to $p$ (simplify)\n",
    "  2. Set derivative equal to 0\n",
    "  3. Solve for $p$\n",
    "  \n",
    "  \n",
    "  0. $\\sum_{n=1}^{N} log(\\big(^k_{x_n}\\big)p^{x_n}(1-p)^{k-x_n}$  \n",
    "   $\\sum\\{log\\big(^k_{x_n}\\big)+x_nlog(p)+(k-x_n)log(1-p)\\}$\n",
    "  1. $\\sum\\{0+\\frac{x_n}{p}-\\frac{k-x_n}{1-p} = 0$ (And step 2)\n",
    "  \n",
    "  \n",
    "  3. $\\frac{\\sum x_n}{p}=\\frac{\\sum(k-x_n)}{1-p}$\n",
    "  4. $\\hat{p}=\\frac{\\sum x_n}{k*N}$"
   ]
  }
 ],
 "metadata": {
  "kernelspec": {
   "display_name": "Python 3",
   "language": "python",
   "name": "python3"
  },
  "language_info": {
   "codemirror_mode": {
    "name": "ipython",
    "version": 3
   },
   "file_extension": ".py",
   "mimetype": "text/x-python",
   "name": "python",
   "nbconvert_exporter": "python",
   "pygments_lexer": "ipython3",
   "version": "3.7.3"
  }
 },
 "nbformat": 4,
 "nbformat_minor": 2
}
