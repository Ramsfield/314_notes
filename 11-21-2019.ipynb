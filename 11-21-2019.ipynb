{
 "cells": [
  {
   "cell_type": "code",
   "execution_count": 1,
   "metadata": {},
   "outputs": [],
   "source": [
    "import numpy as np\n",
    "import pandas as pd\n",
    "from scipy.stats import norm as normal, binom\n",
    "import bplot as bp\n",
    "from scipy.optimize import minimize\n",
    "from scipy.special import loggamma\n",
    "import patsy\n",
    "import multiprocessing\n",
    "from joblib import Parallel, delayed\n",
    "\n",
    "from math314 import optim, pbootstrap as bootstrap, adjustedR2 as ar2"
   ]
  },
  {
   "cell_type": "markdown",
   "metadata": {},
   "source": [
    "# 21 November 2019"
   ]
  },
  {
   "cell_type": "code",
   "execution_count": 2,
   "metadata": {},
   "outputs": [],
   "source": [
    "df = pd.read_csv(\"https://raw.githubusercontent.com/roualdes/data/master/elmhurst.csv\")"
   ]
  },
  {
   "cell_type": "markdown",
   "metadata": {},
   "source": [
    "1. Loadable Module -- Import that 314\n",
    "2. Correlation\n",
    "3. $R^2$\n",
    "4. Adjusted $R^2$\n",
    "5. Hypothesis Testing\n",
    "6. p-values"
   ]
  },
  {
   "cell_type": "markdown",
   "metadata": {},
   "source": [
    "2. Correlation\n",
    "    - Strength\n",
    "    - Sign\n",
    "    - Association\n",
    "    - Linearity"
   ]
  },
  {
   "cell_type": "markdown",
   "metadata": {},
   "source": [
    "3. Connection between correlation and $R^2$  \n",
    "\"What percent of the variance in Y is explained by X\""
   ]
  },
  {
   "cell_type": "code",
   "execution_count": 3,
   "metadata": {},
   "outputs": [],
   "source": [
    "x = np.random.normal(size=101)\n",
    "y = 1*x + np.random.normal(size=101)\n",
    "df = pd.DataFrame({\"x\":x, \"y\":y})"
   ]
  },
  {
   "cell_type": "code",
   "execution_count": 4,
   "metadata": {},
   "outputs": [
    {
     "data": {
      "text/plain": [
       "0.4836336947923052"
      ]
     },
     "execution_count": 4,
     "metadata": {},
     "output_type": "execute_result"
    }
   ],
   "source": [
    "r = df.corr()[\"y\"][0]\n",
    "r*r"
   ]
  },
  {
   "cell_type": "code",
   "execution_count": 5,
   "metadata": {},
   "outputs": [],
   "source": [
    "df.sort_values(by=[\"x\"], inplace=True)\n",
    "X = patsy.dmatrix(\"~ x\", data=df)\n",
    "yX = np.c_[df.y, X]\n",
    "betahat = optim(yX)"
   ]
  },
  {
   "cell_type": "code",
   "execution_count": 6,
   "metadata": {},
   "outputs": [],
   "source": [
    "N = yX.shape[0]\n",
    "k = yX.shape[1]-1\n",
    "mu = np.full(N, np.nan)\n",
    "for n in range(N):\n",
    "    mu[n] = np.sum(yX[n, 1:] * betahat)"
   ]
  },
  {
   "cell_type": "code",
   "execution_count": 7,
   "metadata": {},
   "outputs": [
    {
     "data": {
      "text/plain": [
       "[<matplotlib.lines.Line2D at 0x7ff770de45f8>]"
      ]
     },
     "execution_count": 7,
     "metadata": {},
     "output_type": "execute_result"
    },
    {
     "data": {
      "image/png": "[encoded data removed]",
      "text/plain": [
       "<Figure size 432x288 with 1 Axes>"
      ]
     },
     "metadata": {
      "needs_background": "light"
     },
     "output_type": "display_data"
    }
   ],
   "source": [
    "bp.point(df.x, df.y)\n",
    "bp.line(df['x'], mu, color = bp.color[1], size=5)"
   ]
  },
  {
   "cell_type": "markdown",
   "metadata": {},
   "source": [
    "We should think of $R^2$ a little different. It should be considered as what percentage of variance in y is explained by x?\n",
    "\n",
    "In scenarios that there exists less than 100% correlation, there is some **error** that is unexplained solely by X."
   ]
  },
  {
   "cell_type": "code",
   "execution_count": 8,
   "metadata": {},
   "outputs": [
    {
     "data": {
      "text/plain": [
       "0.5163663052076947"
      ]
     },
     "execution_count": 8,
     "metadata": {},
     "output_type": "execute_result"
    }
   ],
   "source": [
    "error = df['y'] - mu\n",
    "np.var(error) / np.var(df['y'])"
   ]
  },
  {
   "cell_type": "markdown",
   "metadata": {},
   "source": [
    "This is the percent of the unexplained portion of the model in Y. 1-this is just $R^2$\n",
    "\n",
    "$R^2$ is guaranteed to go up even if you add another variable that doesn't explain Y."
   ]
  },
  {
   "cell_type": "markdown",
   "metadata": {},
   "source": [
    "## Adjusted $R^2$"
   ]
  },
  {
   "cell_type": "code",
   "execution_count": 10,
   "metadata": {},
   "outputs": [
    {
     "data": {
      "text/plain": [
       "0.47841787352758114"
      ]
     },
     "execution_count": 10,
     "metadata": {},
     "output_type": "execute_result"
    }
   ],
   "source": [
    "1 - (np.var(error) / np.var(df['y'])) * (N-1)/(N-k)\n",
    "\n",
    "def adjustedR2(y, mu, k):\n",
    "    error = y - mu\n",
    "    N= y.shape[0]\n",
    "    return 1 - (np.var(error) / np.var(y)) * (N-1)/(N-k)\n",
    "\n",
    "ar2(df.y, mu, k)"
   ]
  },
  {
   "cell_type": "markdown",
   "metadata": {},
   "source": [
    "Adjusted $R^2$ is inherently more conservative than $R^2$. It bounds can be negative. This basically means that you shouldn't base your y off of the explanatory variable x"
   ]
  },
  {
   "cell_type": "markdown",
   "metadata": {},
   "source": [
    "## Hypothesis Testing\n",
    "Ho: $\\beta_1=0$\n",
    "\n",
    "Hi: $\\beta_1\\neq 0$\n",
    "\n",
    "To answer this, they turned to the sampling distribution of $\\beta_1$"
   ]
  },
  {
   "cell_type": "code",
   "execution_count": 16,
   "metadata": {},
   "outputs": [],
   "source": [
    "betas = bootstrap(yX, 1001, optim, betahat)"
   ]
  },
  {
   "cell_type": "code",
   "execution_count": 17,
   "metadata": {},
   "outputs": [
    {
     "data": {
      "text/plain": [
       "array([0.7197793 , 1.15356363])"
      ]
     },
     "execution_count": 17,
     "metadata": {},
     "output_type": "execute_result"
    }
   ],
   "source": [
    "np.percentile(betas[:,1], [2.5, 97.5])"
   ]
  }
 ],
 "metadata": {
  "kernelspec": {
   "display_name": "Python 3",
   "language": "python",
   "name": "python3"
  },
  "language_info": {
   "codemirror_mode": {
    "name": "ipython",
    "version": 3
   },
   "file_extension": ".py",
   "mimetype": "text/x-python",
   "name": "python",
   "nbconvert_exporter": "python",
   "pygments_lexer": "ipython3",
   "version": "3.7.3"
  }
 },
 "nbformat": 4,
 "nbformat_minor": 2
}
