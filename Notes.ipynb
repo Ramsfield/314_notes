{
 "cells": [
  {
   "cell_type": "code",
   "execution_count": 1,
   "metadata": {},
   "outputs": [],
   "source": [
    "import numpy as np\n",
    "import pandas as pd\n",
    "from scipy.stats import norm as normal, binom\n",
    "import bplot as bp\n",
    "from scipy.optimize import minimize\n",
    "from scipy.special import loggamma"
   ]
  },
  {
   "cell_type": "code",
   "execution_count": 2,
   "metadata": {},
   "outputs": [],
   "source": [
    "N = 4000\n",
    "x = np.random.choice([i+1 for i in range(6)], N)"
   ]
  },
  {
   "cell_type": "code",
   "execution_count": 3,
   "metadata": {},
   "outputs": [],
   "source": [
    "c = np.cumsum(x)"
   ]
  },
  {
   "cell_type": "code",
   "execution_count": 4,
   "metadata": {},
   "outputs": [
    {
     "data": {
      "text/plain": [
       "array([2, 6, 2, 6, 4, 4])"
      ]
     },
     "execution_count": 4,
     "metadata": {},
     "output_type": "execute_result"
    }
   ],
   "source": [
    "x[:6]"
   ]
  },
  {
   "cell_type": "code",
   "execution_count": 5,
   "metadata": {},
   "outputs": [
    {
     "data": {
      "text/plain": [
       "14041"
      ]
     },
     "execution_count": 5,
     "metadata": {},
     "output_type": "execute_result"
    }
   ],
   "source": [
    "c[len(c)-1]"
   ]
  },
  {
   "cell_type": "code",
   "execution_count": 6,
   "metadata": {},
   "outputs": [
    {
     "data": {
      "text/plain": [
       "array([ 1,  2,  3,  4,  5,  6,  7,  8,  9, 10])"
      ]
     },
     "execution_count": 6,
     "metadata": {},
     "output_type": "execute_result"
    }
   ],
   "source": [
    "np.arange(10) + 1"
   ]
  },
  {
   "cell_type": "code",
   "execution_count": 7,
   "metadata": {},
   "outputs": [],
   "source": [
    "p = c / (np.arange(N) + 1)"
   ]
  },
  {
   "cell_type": "code",
   "execution_count": 8,
   "metadata": {},
   "outputs": [
    {
     "data": {
      "text/plain": [
       "array([2.        , 4.        , 3.33333333, 4.        , 4.        ,\n",
       "       4.        ])"
      ]
     },
     "execution_count": 8,
     "metadata": {},
     "output_type": "execute_result"
    }
   ],
   "source": [
    "p[:6]"
   ]
  },
  {
   "cell_type": "code",
   "execution_count": 9,
   "metadata": {},
   "outputs": [
    {
     "data": {
      "text/plain": [
       "array([3.51025   , 3.51062766, 3.5110055 , ..., 3.8       , 3.77777778,\n",
       "       3.75      ])"
      ]
     },
     "execution_count": 9,
     "metadata": {},
     "output_type": "execute_result"
    }
   ],
   "source": [
    "p[:6:-1]"
   ]
  },
  {
   "cell_type": "code",
   "execution_count": 10,
   "metadata": {},
   "outputs": [
    {
     "data": {
      "text/plain": [
       "[<matplotlib.lines.Line2D at 0x7f72b2983240>]"
      ]
     },
     "execution_count": 10,
     "metadata": {},
     "output_type": "execute_result"
    },
    {
     "data": {
      "image/png": "[encoded data removed]",
      "text/plain": [
       "<Figure size 432x288 with 1 Axes>"
      ]
     },
     "metadata": {
      "needs_background": "light"
     },
     "output_type": "display_data"
    }
   ],
   "source": [
    "bp.line(np.arange(N), p)"
   ]
  },
  {
   "cell_type": "code",
   "execution_count": 11,
   "metadata": {},
   "outputs": [
    {
     "data": {
      "text/plain": [
       "3.5"
      ]
     },
     "execution_count": 11,
     "metadata": {},
     "output_type": "execute_result"
    }
   ],
   "source": [
    "r = 6\n",
    "sum([i+1 for i in range(r)])/r"
   ]
  },
  {
   "cell_type": "markdown",
   "metadata": {},
   "source": [
    "**Sample** - Verb -- Take observation  \n",
    "**Sample** - Noun -- The finite mean of samples  \n",
    "**Pouplation** - Group of things you're interested in learning about  \n",
    "**Parameters** - Characteristics of the population  \n",
    "**Statistics** - Calculating the Parameters of the population, Any function of the sample\n",
    "  * Median\n",
    "  * Mode\n",
    "  * Standard Deviation"
   ]
  },
  {
   "cell_type": "markdown",
   "metadata": {},
   "source": [
    "## 04 Sept, 2019\n",
    "Finite vs Infinite  \n",
    "Finite sample where you can calculate statistics  \n",
    "Infiinite Population where you can caluclate parameters  \n",
    "$$x\\in \\{0,1\\}$$\n",
    "represents a coin flip\n",
    "$$x\\in\\{1,2,3,4,5,6\\}$$\n",
    "Represents a dice\n",
    "\n",
    "The thing that connects infinite and finite worlds are called **random variables**  \n",
    "**Random Variable** -- A numerical variable, such that until it is observed we don't know its value. This can show up in the infinite world as an **abstraction**, but once we determine (flip the coin) we create an **instance** or **observation**  \n",
    "We can reference a true flip observations as $\\{1,0\\}$ but abstract in the infinite world as $x_1, x_2$\n",
    "\n",
    "### There are 3 important characteristics of Random Variables\n",
    "  1. Discrete or Continuous -- A random variable that can take on any value in a countably infinite set (continuous meaning uncountably infinite) The natural numbers are a countably finite infinite set\n",
    "  2. The values the random variable can take on (The support of the random variable)\n",
    "  3. A function that describes the probabilities on values in the support (Probability density function)\n",
    "  \n",
    "### Uniform random variable\n",
    "A dice is an example of a uniform random variable *Uniform*$(1,6)$  where the probability of all the values in the support is equal  \n",
    "We can write this as: X ~ Uniform$(1,6)$\n",
    "\n",
    "A dice is a discrete Uniform(1,6) random variable\n",
    "\n",
    "### Bernoulli\n",
    "A coin flip is an example of a Bernoulli random variable, where theres a binary outcome: 0 and 1. It is separated from a uniformed variable, because while a uniform has to have the same probability for both outcomes, a Bernoulli doesn't necessarily. We can call this probability $p$.  \n",
    "The two probabilities can be called $p$ and $1-p$ where $p$ is the population parameter that can be estimated by taking samples."
   ]
  },
  {
   "cell_type": "markdown",
   "metadata": {},
   "source": [
    "# 05 September 2019\n",
    "We can attempt to generalize the function that defines the Uniform(a, b)\n",
    "$$f(x)=\\frac{1}{b-a+1}$$  \n",
    "But since we're just counting elements in the support, we can say\n",
    "$$\\sum_{i=1}^{N}p=1$$\n",
    "or\n",
    "$$N*p=1 == p=\\frac{1}{N}$$\n",
    "and we can say that $N=b-a+1$\n",
    "\n",
    "$$P(X=x)=\\frac{1}{b-a+1}=f(x)$$\n",
    "Where $P(X=x)$ \"The probability that the discrete random uniform takes on the value which is the formula ...\"  \n",
    "Capital letters are the Random variables that we don't know until we measure. Lowercase are the values that the R.V. can take on"
   ]
  },
  {
   "cell_type": "code",
   "execution_count": 12,
   "metadata": {},
   "outputs": [],
   "source": [
    "def Uniform(a, b):\n",
    "    \"\"\"\n",
    "    Attempting to describe the Uniform function\n",
    "    for the population\n",
    "    \"\"\"\n",
    "    if type(a) is not int or type(b) is not int:\n",
    "        return -1\n",
    "    return 1/(b-a+1)"
   ]
  },
  {
   "cell_type": "code",
   "execution_count": 13,
   "metadata": {},
   "outputs": [],
   "source": [
    "N = 1001\n",
    "x = np.random.choice(np.arange(1,7), N)"
   ]
  },
  {
   "cell_type": "code",
   "execution_count": 14,
   "metadata": {},
   "outputs": [
    {
     "data": {
      "text/plain": [
       "0.16283716283716285"
      ]
     },
     "execution_count": 14,
     "metadata": {},
     "output_type": "execute_result"
    }
   ],
   "source": [
    "np.mean(x == 2)"
   ]
  },
  {
   "cell_type": "code",
   "execution_count": 15,
   "metadata": {},
   "outputs": [
    {
     "data": {
      "text/plain": [
       "0.16383616383616384"
      ]
     },
     "execution_count": 15,
     "metadata": {},
     "output_type": "execute_result"
    }
   ],
   "source": [
    "np.sum(x==1)/N"
   ]
  },
  {
   "cell_type": "code",
   "execution_count": 16,
   "metadata": {},
   "outputs": [
    {
     "data": {
      "text/plain": [
       "0.16666666666666666"
      ]
     },
     "execution_count": 16,
     "metadata": {},
     "output_type": "execute_result"
    }
   ],
   "source": [
    "Uniform(1,6)"
   ]
  },
  {
   "cell_type": "markdown",
   "metadata": {},
   "source": [
    "# 09 September, 2019\n",
    "We can identify a certain hand in poker as a bernoulli R.V. by saying 1 is getting that hand and 0 is not getting that hand"
   ]
  },
  {
   "cell_type": "code",
   "execution_count": 17,
   "metadata": {},
   "outputs": [],
   "source": [
    "#suit = [\"Hearts\", \"Spades\", \"Clubs\", \"Diamonds\"]\n",
    "suit = \"HSCD\"\n",
    "ranks = \"A23456789TJQK\"\n",
    "deck = [s + r for s in suit for r in ranks] # list comprehension"
   ]
  },
  {
   "cell_type": "code",
   "execution_count": 18,
   "metadata": {},
   "outputs": [
    {
     "data": {
      "text/plain": [
       "(array(['2', '6', '7', 'A'], dtype='<U1'), array([2, 1, 1, 1]))"
      ]
     },
     "execution_count": 18,
     "metadata": {},
     "output_type": "execute_result"
    }
   ],
   "source": [
    "np.random.seed(1234)\n",
    "x = np.random.choice(deck, size = 5, replace=False)\n",
    "x = [i[1] for i in x]\n",
    "np.unique(x, return_counts=True)"
   ]
  },
  {
   "cell_type": "code",
   "execution_count": 19,
   "metadata": {},
   "outputs": [
    {
     "data": {
      "text/plain": [
       "False"
      ]
     },
     "execution_count": 19,
     "metadata": {},
     "output_type": "execute_result"
    }
   ],
   "source": [
    "x == 'D2'"
   ]
  },
  {
   "cell_type": "code",
   "execution_count": 20,
   "metadata": {},
   "outputs": [
    {
     "name": "stdout",
     "output_type": "stream",
     "text": [
      "0.018998100189981004\n"
     ]
    }
   ],
   "source": [
    "N = 10001\n",
    "np.random.seed(124325)\n",
    "count = 0\n",
    "for n in range(N):\n",
    "    hand = np.random.choice(deck, 1, replace=False)\n",
    "    count += (hand == \"D2\").sum() == 1\n",
    "print(count/N)"
   ]
  },
  {
   "cell_type": "markdown",
   "metadata": {},
   "source": [
    "# 12 September, 2019"
   ]
  },
  {
   "cell_type": "markdown",
   "metadata": {},
   "source": [
    "$X\\sim\\text{Bernoulli}(p)$  \n",
    "A Bernoulli random variable is of the support $\\{0,1\\}$ where the probability of $1$ is referenced by $p$, thusly, the probability of $0$ is referenced by $1-p$  \n",
    " \n",
    "The Following can be represented as:\n",
    "$$f(x) = p^x(1-p)^{1-x} \\text{ for } x\\in\\{0,1\\}$$  \n",
    "  \n",
    "$$f(0)= p^0(1-p)^{1-0}=1*(1-p)=1-p$$\n",
    "$$f(1)=p^1(1-p)^{1-1}=p(1)=p$$\n",
    "\n",
    "**EX:** A fair coin can be represented as a Bernoulli R.V. where $p=0.5$  \n",
    "**EX:** A server that has some probability of failure $p$ (0 is not fail, 1 is fail)"
   ]
  },
  {
   "cell_type": "markdown",
   "metadata": {},
   "source": [
    "## Serial\n",
    "Let us focus on the server example:\n",
    "$$X_1\\sim\\text{Bernoulli}(p_1)$$\n",
    "$$X_2\\sim\\text{Bernoulli}(p_2)$$\n",
    "$$\\text{Serial: in}\\rightarrow x_1\\rightarrow x_2\\rightarrow \\text{out}$$\n",
    "And by using this serial, we can find the overal probability of success for the whole system. $P(\\text{succeed})$ determines the probability of success.\n",
    "\n",
    "P(succeed)$=(1-p_1)*(1-p_2)$  \n",
    "In the world of probabilities, the english word *and* is associated with multiplication.\n",
    "\n",
    "P(failure)$=p_1*(1-p_2)+p_1*p_2+(1-p_1)*p_2$  \n",
    "In the world of probabilities, the english word *or* is associated with addition.\n",
    "\n",
    "The probability of the system succeeding and failing is *mutually exclusive* meaning they have no overlap.  \n",
    "This means that we can essentially just take $1=\\text{P(fail)}+\\text{P(succeed)}$ or $ \\text{P(fail)}=1-\\text{P(succeed)}$\n",
    "\n",
    "If $A$ and $B$ (0 or 1) and exhaustive(fills the whole support), then $P(A)=1-P(B)$"
   ]
  },
  {
   "cell_type": "markdown",
   "metadata": {},
   "source": [
    "## Parallel\n",
    "\n",
    "P(failure) = $p_1*p_2$  \n",
    "P(succeed) = $1-\\text{P(failure)}$"
   ]
  },
  {
   "cell_type": "markdown",
   "metadata": {},
   "source": [
    "# 13 September, 2019"
   ]
  },
  {
   "cell_type": "markdown",
   "metadata": {},
   "source": [
    "## Conditional Probability\n",
    "Let $A$ and $B$ be __events__.  \n",
    "**Events** - Are the random outcomes of some process as a set of words. Similar to a Random Variable, but with words. Events *can* be mutually exclusive, but do not have to be.\n",
    "\n",
    "**EX**  \n",
    "$A=\\text{Failure of some system}$  \n",
    "$B=\\text{Success of some system}$\n",
    "\n",
    "**Defn**  \n",
    "$$P(A|B)=\\frac{P(A\\cap B)}{P(B)}$$\n",
    "The probability of $A$ conditioned on $B$\n",
    "\n",
    "**EX**  \n",
    "$B$ = an ace is drawn first from a fair deck of cards without replacement.  \n",
    "$A$ = an ace was drawn second\n",
    "\n",
    "$P(A|B)=\\frac{3}{51}$ Because if $B$ succeeds, there would be 3 aces and 51 cards, in a fair deck, we already know this probability\n",
    "\n",
    "We can utilize the formula to actually show this\n",
    "$$P(A|B)=\\frac{P(A\\cap B)}{P(B)}=\\frac{P(A)*P(B)}{P(B)}=P(A)=\\frac{3}{51}$$\n",
    "\n",
    "## Independent (Events/Random Variables)\n",
    "The events $A$ and $B$ are independent if and only if:\n",
    "$$P(A\\cap B) = P(A)*P(B)$$\n",
    "If (and only if) the two sides of the equation are equal, then $A$ and $B$ are independent. If they are inequal, then they are dependent  \n",
    "If two events are mutually exclusive, they are dependent. To be independent, they must have some overlap\n",
    "\n",
    "**EX**  \n",
    "What is the changes of the first card you drew to be a king if the first card you drew was a king? -- A mutually exclusive option, therefore dependent.\n",
    "\n",
    "**EX**  \n",
    "If a coin flip lands on head first, what are the chances of a second flip landing on heads? Because the first coin flip has no bearing on the second coin flip"
   ]
  },
  {
   "cell_type": "markdown",
   "metadata": {},
   "source": [
    "# 16 September, 2019"
   ]
  },
  {
   "cell_type": "markdown",
   "metadata": {},
   "source": [
    "### Example of Independence  \n",
    "Flip over two cards from a well shuffled fair deck without replacement  \n",
    "$B$ = First card is an Ace  \n",
    "$A$ = Second card is an Ace  \n",
    "$P(A)$? $P(B)$?\n",
    "\n",
    "$P(B)=\\frac{4}{52}*\\frac{3}{51}+\\frac{4}{52}*\\frac{48}{51}$  \n",
    "$P(A)=\\frac{4}{52}*\\frac{3}{51}+\\frac{48}{52}*\\frac{4}{51}$"
   ]
  },
  {
   "cell_type": "code",
   "execution_count": 21,
   "metadata": {},
   "outputs": [],
   "source": [
    "pb=((4/52)*(3/51))+((4/52)*(48/51)) # Probability of B P(B)\n",
    "\n",
    "pa=((4/52)*(3/51))+((48/52)*(4/51)) # Probability of A P(A)"
   ]
  },
  {
   "cell_type": "markdown",
   "metadata": {},
   "source": [
    "$P(A\\cap B)=P(A)*P(B)$  \n",
    "$\\frac{4}{52}*\\frac{3}{51}=\\frac{4}{52}*\\frac{4}{52}$  \n",
    "Since the two sides of the equation are not equal, they are **dependant**"
   ]
  },
  {
   "cell_type": "markdown",
   "metadata": {},
   "source": [
    "## Binomial\n",
    "A **binomial** RV is the sum of $K$ Bernoulli(p)s. Where $K$ is the word **trials**.\n",
    "\n",
    "**EX**  \n",
    "Binomial(K=4,p)  \n",
    "$X_1, X_2, X_3, X_4$  \n",
    "$0, 1, 1, 0$ respectively so $0 + 1 + 1 + 0 = 2$\n",
    "$$Y=\\sum^{K}_{k=1}x_k$$\n",
    "\n",
    "**EX**  \n",
    "$K=5$  \n",
    "$1, 2, 4, 5, 3$ Where we're interested in $3$  \n",
    "*Bernoulli* $0,0,0,0,1$  \n",
    "*Binomial* $1$\n",
    "\n",
    "3 main components of RVs as it corresponds to Binomials  \n",
    "  1. Discrete\n",
    "  2. The support $x\\in \\{0,...,k\\}$\n",
    "  3. Probability Density Function that calculates probability for each value in the support $f(x)$\n",
    "  \n",
    "**EX**  \n",
    "$\\text{Binomial}(k=4, p)$  \n",
    "$1, 1, 1, 0$  \n",
    "where the probability would be $p*p*p*(1-p)=p^3(1-p)$  \n",
    "And since there is 4 possible options of having 3 1's and 1 0,  \n",
    "$f(3)=4p^3(1-p)$  \n",
    "We can extrapolate $f(2)=3p^2(1-p)^2$  \n",
    "\n",
    "Probability density function for **binomial(k,p)**\n",
    "$$f(x)=\\big(^k_x\\big)p^x(1-p)^{k-x}$$\n",
    "$$\\big(^k_x\\big)=\\frac{k!}{x!(k-x)!}$$"
   ]
  },
  {
   "cell_type": "markdown",
   "metadata": {},
   "source": [
    "# 18 September 2019"
   ]
  },
  {
   "cell_type": "markdown",
   "metadata": {},
   "source": [
    "## Expected Value\n",
    "Let $X\\sim F$ with pdf(probability density function) $f$ and support $S$  \n",
    "Let $g$ be a function of $X$  \n",
    "The expected value of $g(X)$:\n",
    "$$\\textbf{E}(g(X))=\\sum_{S}g(x)f(x)$$\n",
    "\n",
    "**EX**  \n",
    "x   |   1   2   3   4  \n",
    "f(x)| 0.2 0.1 0.4 0.3\n",
    "\n",
    "\n",
    "| x | 1 | 2 | 3 | 4   |\n",
    "|------|------| ----- | ---- | ----- | \n",
    "|   f(x)  | 0.2 | 0.1 | 0.4 | 0.3 |\n",
    "let g(x)=x\n",
    "$$\\textbf{E}(g(X))=\\sum_{S}g(x)f(x)$$\n",
    "$$=1*0.2+2*0.1+3*0.4+4*0.3$$"
   ]
  },
  {
   "cell_type": "code",
   "execution_count": 22,
   "metadata": {},
   "outputs": [
    {
     "data": {
      "text/plain": [
       "2.8"
      ]
     },
     "execution_count": 22,
     "metadata": {},
     "output_type": "execute_result"
    }
   ],
   "source": [
    "x = np.arange(4)+1\n",
    "fx = np.asarray([.2, .1, .4, .3])\n",
    "np.sum(x*fx)"
   ]
  },
  {
   "cell_type": "markdown",
   "metadata": {},
   "source": [
    "2.8 is the *population analog* to the sample mean -- it's what you would get if, in the limit, if you rolled the die an infinite number of times and divided by the rolls"
   ]
  },
  {
   "cell_type": "code",
   "execution_count": 23,
   "metadata": {},
   "outputs": [
    {
     "data": {
      "text/plain": [
       "2.8093"
      ]
     },
     "execution_count": 23,
     "metadata": {},
     "output_type": "execute_result"
    }
   ],
   "source": [
    "np.random.choice(x, p=fx, size=10000).mean()"
   ]
  },
  {
   "cell_type": "markdown",
   "metadata": {},
   "source": [
    "Find $\\textbf{E}(X)$ of $X~\\text{Uniform}(1,6)$"
   ]
  },
  {
   "cell_type": "code",
   "execution_count": 24,
   "metadata": {},
   "outputs": [
    {
     "data": {
      "text/plain": [
       "3.5"
      ]
     },
     "execution_count": 24,
     "metadata": {},
     "output_type": "execute_result"
    }
   ],
   "source": [
    "#Find the expected value of a fair dice\n",
    "x = np.arange(6)+1\n",
    "#fx = np.repeat(1/6, 6)\n",
    "#fx = np.asarray([0.4, 0.05, 0.05, 0.05, 0.05, 0.4])\n",
    "fx = np.asarray([0.05, 0.15, 0.3, 0.3, 0.15,  0.05])\n",
    "EX = np.sum(fx * x)\n",
    "EX"
   ]
  },
  {
   "cell_type": "markdown",
   "metadata": {},
   "source": [
    "## Population Variance\n",
    "$$\\textbf{V}(X)=\\textbf{E}((X-\\textbf{E}(X))^2)$$\n",
    "\"On average, how far away is the random value from the expected value in squared distance\"\n",
    "$$g(x)=(x-\\textbf{E}(X))^2)$$\n",
    "$$\\textbf{V}(X)=\\sum_{S}(x-\\textbf{E}(X))^2*f(x)$$"
   ]
  },
  {
   "cell_type": "code",
   "execution_count": 25,
   "metadata": {},
   "outputs": [
    {
     "data": {
      "text/plain": [
       "1.4499999999999997"
      ]
     },
     "execution_count": 25,
     "metadata": {},
     "output_type": "execute_result"
    }
   ],
   "source": [
    "VX = np.sum((x-EX)**2 * fx)\n",
    "VX"
   ]
  },
  {
   "cell_type": "markdown",
   "metadata": {},
   "source": [
    "# 20 September, 2019"
   ]
  },
  {
   "cell_type": "code",
   "execution_count": 26,
   "metadata": {},
   "outputs": [
    {
     "data": {
      "text/plain": [
       "0.059124608122658136"
      ]
     },
     "execution_count": 26,
     "metadata": {},
     "output_type": "execute_result"
    }
   ],
   "source": [
    "binom(12,0.65).pmf(5)"
   ]
  },
  {
   "cell_type": "code",
   "execution_count": 27,
   "metadata": {},
   "outputs": [
    {
     "data": {
      "text/plain": [
       "0.04995004995004995"
      ]
     },
     "execution_count": 27,
     "metadata": {},
     "output_type": "execute_result"
    }
   ],
   "source": [
    "np.mean(np.random.binomial(12,0.65,size=1001)==5)"
   ]
  },
  {
   "cell_type": "markdown",
   "metadata": {},
   "source": [
    "## Standard Deviation \n",
    "$$\\sqrt{\\textbf{V}(X)}$$"
   ]
  },
  {
   "cell_type": "markdown",
   "metadata": {},
   "source": [
    "# 23 September, 2019"
   ]
  },
  {
   "cell_type": "markdown",
   "metadata": {},
   "source": [
    "## Population Mean\n",
    "$$\\textbf{E}(X)=\\sum_Sx*f(x)$$\n",
    "\n",
    "So, if we had $X\\sim\\text{Binomial}(k,p)$, We can state $\\textbf{E}(X)=k*p$"
   ]
  },
  {
   "cell_type": "code",
   "execution_count": 28,
   "metadata": {},
   "outputs": [
    {
     "data": {
      "text/plain": [
       "5.5"
      ]
     },
     "execution_count": 28,
     "metadata": {},
     "output_type": "execute_result"
    }
   ],
   "source": [
    "k = 11\n",
    "p = 0.5\n",
    "round(np.sum([x * binom.pmf(x, k, p) for x in range(k+1)]), 12)"
   ]
  },
  {
   "cell_type": "markdown",
   "metadata": {},
   "source": [
    "If we had $X\\sim\\text{Uniform}(a,b)$ we can state $\\textbf{E}(X)=\\frac{b+a}{2}$"
   ]
  },
  {
   "cell_type": "code",
   "execution_count": 29,
   "metadata": {},
   "outputs": [
    {
     "data": {
      "text/plain": [
       "3.5"
      ]
     },
     "execution_count": 29,
     "metadata": {},
     "output_type": "execute_result"
    }
   ],
   "source": [
    "round(np.sum([(x+1)*(1/6) for x in range(6)]), 12)"
   ]
  },
  {
   "cell_type": "markdown",
   "metadata": {},
   "source": [
    "## Likelihood Method\n",
    "$$L(\\theta|\\underline{x})=\\prod_{n=1}^{N}f(x_n|\\theta)$$\n",
    "Where $f$ is the probability density function  \n",
    "$L$ is the likelihood function  \n",
    "$\\Pi$ is the products of (similar to $\\sum$)  \n",
    "$\\theta$ is population parameter(s)  \n",
    "$x_n$ is an observed RV, in the array $\\underline{x}$  \n",
    "$\\underline{x}$ is the array of observed data\n",
    "\n",
    "__Goal__  \n",
    "What is the most likely value of $\\theta$, given the observed data $\\underline{x}$ \n",
    "\n",
    "$\\hat{\\theta}=\\text{argmax}_{\\theta}L(\\theta|\\underline{x})$ Where $\\hat{\\theta}$ is the maximum likelihood estimator\n",
    "\n",
    "**EX**  \n",
    "$f(x)=-x^2$, $0=\\text{argmax}f(x)$\n",
    "\n",
    "**EX**  \n",
    "$X_1,...,X_N\\sim\\text{Binomial}(k,p)$  \n",
    "$L(p|\\underline{x},k)=\\prod_{n=1}^{N}\\big(^k_{x_n}\\big)p^{x_n}(1-p)^{k-x_n}$\n",
    "\n",
    "To find the maximum, we:  \n",
    "  0. Take natural log\n",
    "  1. Take the derivative with respect to $p$ (simplify)\n",
    "  2. Set derivative equal to 0\n",
    "  3. Solve for $p$\n",
    "  \n",
    "  \n",
    "  0. $\\sum_{n=1}^{N} log(\\big(^k_{x_n}\\big)p^{x_n}(1-p)^{k-x_n}$  \n",
    "   $\\sum\\{log\\big(^k_{x_n}\\big)+x_nlog(p)+(k-x_n)log(1-p)\\}$\n",
    "  1. $\\sum\\{0+\\frac{x_n}{p}-\\frac{k-x_n}{1-p} = 0$ (And step 2)\n",
    "  \n",
    "  \n",
    "  3. $\\frac{\\sum x_n}{p}=\\frac{\\sum(k-x_n)}{1-p}$\n",
    "  4. $\\hat{p}=\\frac{\\sum x_n}{k*N}$"
   ]
  },
  {
   "cell_type": "markdown",
   "metadata": {},
   "source": [
    "# 25 September, 2019"
   ]
  },
  {
   "cell_type": "markdown",
   "metadata": {},
   "source": [
    "## Likelihood continued\n",
    "$X_1,\\dots,X_N\\sim\\text{Binomial}(k,p)$  \n",
    "Our goal is to esimate:  \n",
    "$$L(p|\\underline{x},k)=\\prod^{N}_{n=1}f(x_n|p)$$\n",
    "We need to put on our guessing hat for $\\hat{p}=\\text{argmax}_pL(p|\\underline{x},k)$ where we can call $\\hat{p}$ the maximum likelihood estimator\n",
    "\n",
    "*Why Product?*  \n",
    "**EX** Bernoulli  \n",
    "What's the probability of getting Heads, Tails, and Heads in flipping a fair coin?  \n",
    "$HTH$ we can rewrite as  \n",
    "$p*(1-p)*p$\n",
    "\n",
    "Since the Bernoulli function is $f(x)=p^x(1-p)^{1-x}$,  \n",
    "Our function maps to $p*(1-p)*p\\rightarrow f(1)*f(0)*f(1)$\n",
    "\n",
    "We can rewrite this as $\\prod_{n=1}^Nf(x_n)$\n",
    "\n",
    "\n",
    "\n",
    "Back to the main topic:\n",
    "\n",
    "Take the natural log(and simplify):\n",
    "$$log(L(p|\\underline{x},k))=\\sum_{n=1}^{N}log(f(x_n|p))$$\n",
    "$$=\\sum_{n-1}^{N}log(\\big(^k_{x_n}\\big)*p^{x_n}*(1-p)^{k-x_n}$$\n",
    "$$=\\sum\\{log\\big(^k_{x_n}\\big)+log(p^{x_n})+log((1-p)^{k-x_n})\\}$$\n",
    "$$=\\sum\\{log\\big(^k_{x_n}\\big)+x_nlog(p)+(k-x_n)*log(1-p)\\}$$\n",
    "We now want to take the derivative with respect to $p$, but we can remove all terms that do not have $p$ in them (because they are constant)\n",
    "$$\\propto\\sum_{n=1}^{N}\\{x_nlog(p)+(k-x_n)log(1-p)\\}$$\n",
    "This is called the **Simplified Log-Likelihood**"
   ]
  },
  {
   "cell_type": "code",
   "execution_count": 30,
   "metadata": {},
   "outputs": [],
   "source": [
    "# Standardized method of defining the function\n",
    "def ll_rv_name(p, x, k):\n",
    "    \"\"\"\n",
    "    ll - Log Likelihood\n",
    "    binomial - the RV we're working with\n",
    "    p - the probability to maximize\n",
    "    x - the array to the data\n",
    "    k - claimed known number of trials\n",
    "    \"\"\"\n",
    "    pass"
   ]
  },
  {
   "cell_type": "markdown",
   "metadata": {},
   "source": [
    "Now, take the derivative with respect to $p$\n",
    "$$\\propto\\sum_{n=1}^{N}\\{\\frac{x_n}{p}-\\frac{k-x_n}{1-p}\\}$$\n",
    "Set it equal to 0 (we skip a step)\n",
    "$$\\sum\\frac{x_n}{p}=\\sum\\frac{k-x_n}{1-p}$$\n",
    "Solve for $p$\n",
    "$$\\sum x_n - p\\sum x_n = p*N*k - p\\sum x_n$$\n",
    "Which gives us the maximum likelihood estimator\n",
    "$$\\hat{p}=\\frac{\\sum x_n}{N*k}$$\n",
    "Which essentially states if you add up all the data, divide by how many there are, then divide by $k$, you'll get an estimation for the probability."
   ]
  },
  {
   "cell_type": "code",
   "execution_count": 31,
   "metadata": {},
   "outputs": [],
   "source": [
    "def ll_binomial(p, x, k):\n",
    "    N = x.size\n",
    "    Sx = np.sum(x)\n",
    "    return -np.log(p)*Sx - (N*k-Sx)*np.log(1-p) #Make sure to negate to change minimize to maximize"
   ]
  },
  {
   "cell_type": "code",
   "execution_count": 32,
   "metadata": {},
   "outputs": [],
   "source": [
    "K = 12\n",
    "X = np.random.binomial(K, 0.16, size=1001)"
   ]
  },
  {
   "cell_type": "code",
   "execution_count": 33,
   "metadata": {},
   "outputs": [
    {
     "data": {
      "text/plain": [
       "      fun: array([5371.71735253])\n",
       " hess_inv: <1x1 LbfgsInvHessProduct with dtype=float64>\n",
       "      jac: array([0.])\n",
       "  message: b'CONVERGENCE: NORM_OF_PROJECTED_GRADIENT_<=_PGTOL'\n",
       "     nfev: 20\n",
       "      nit: 8\n",
       "   status: 0\n",
       "  success: True\n",
       "        x: array([0.16458541])"
      ]
     },
     "execution_count": 33,
     "metadata": {},
     "output_type": "execute_result"
    }
   ],
   "source": [
    "#Minimize arguments:\n",
    "#function to minimize\n",
    "#tuple of best guess to unknown population parameter\n",
    "#args = (X, K) -- The information you do have\n",
    "#method always \"L-BFGS-B\"\n",
    "#bounds takes a list of tuples of length two to provide bounds\n",
    "#\"Can't be smaller than zero\", \"Can't be bigger than one\"\n",
    "minimize(ll_binomial, (0.5), args = (X, K), method=\"L-BFGS-B\", bounds= [(1e-5, 1-1e-5)])"
   ]
  },
  {
   "cell_type": "markdown",
   "metadata": {},
   "source": [
    "# 26 September, 2019"
   ]
  },
  {
   "cell_type": "code",
   "execution_count": 34,
   "metadata": {},
   "outputs": [
    {
     "data": {
      "text/plain": [
       "[<matplotlib.lines.Line2D at 0x7f72b28c6dd8>]"
      ]
     },
     "execution_count": 34,
     "metadata": {},
     "output_type": "execute_result"
    },
    {
     "data": {
      "image/png": "[encoded data removed]",
      "text/plain": [
       "<Figure size 432x288 with 1 Axes>"
      ]
     },
     "metadata": {
      "needs_background": "light"
     },
     "output_type": "display_data"
    }
   ],
   "source": [
    "p = np.linspace(1e-5, 1-1e-5, 101)\n",
    "bp.curve(p, ll_binomial(p,X,K))"
   ]
  },
  {
   "cell_type": "markdown",
   "metadata": {},
   "source": [
    "## Gamma Random Variable\n",
    "$$f(x|\\alpha, \\beta)=(\\beta^\\alpha\\Gamma(\\alpha))^{-1}x^{\\alpha-1}e^{-\\frac{x}{\\beta}}$$\n",
    "$$\\alpha > 0, \\beta > 0, x > 0$$\n",
    "### Gamma Function\n",
    "$\\Gamma(\\alpha)$ is the generalization of the factorial of all positive non-integers  \n",
    "If $\\alpha$ is an integer, then\n",
    "$$\\Gamma(\\alpha) = (\\alpha - 1)!$$\n",
    "\n",
    "Gamma Random Variable models the survivability of objects. It can gage how long an object will survive\n",
    "\n",
    "For a continuous random variable, every \"sum\" should be replaced with an integral"
   ]
  },
  {
   "cell_type": "markdown",
   "metadata": {},
   "source": [
    "### Likelihood Function\n",
    "$$L(\\alpha,\\beta|\\underline{x})=\\prod_{n=1}^{N}f(x_n|\\alpha,\\beta)$$\n",
    "Such that $\\underline{x}=X_1,\\dots,X_N\\sim\\text{Gamma}(\\alpha, \\beta)$\n",
    "\n",
    "Step 0) Take log:\n",
    "$$\\sum\\log(f(x_n|\\alpha,\\beta))$$\n",
    "$$=\\sum\\log((\\beta^\\alpha\\Gamma(\\alpha))^{-1}x_n^{\\alpha-1}e^{-\\frac{x}{\\beta}})$$\n",
    "$$=\\sum\\{\\log((\\beta^\\alpha\\Gamma(\\alpha)^{-1})+\\log(x_n^{\\alpha-1})+\\log(e^{-\\frac{x_n}{\\beta}})\\}$$\n",
    "$$=\\sum\\{-\\alpha\\log(\\beta)-\\log(\\Gamma(\\alpha))+(\\alpha-1)\\log(x_n)+(-\\frac{x_n}{\\beta})\\}$$"
   ]
  },
  {
   "cell_type": "code",
   "execution_count": 35,
   "metadata": {},
   "outputs": [],
   "source": [
    "def ll_gamma(theta, x):\n",
    "    alpha, beta = theta\n",
    "    Sx = np.sum(x)\n",
    "    N = x.size\n",
    "    return N*alpha*np.log(beta)+N*loggamma(alpha)-(alpha-1)*np.sum(np.log(x))+Sx/beta"
   ]
  },
  {
   "cell_type": "code",
   "execution_count": 36,
   "metadata": {},
   "outputs": [],
   "source": [
    "np.random.seed(6)\n",
    "N=1001\n",
    "a=1.24\n",
    "b=12.43\n",
    "X = np.random.gamma(a, b, size=N)"
   ]
  },
  {
   "cell_type": "code",
   "execution_count": 37,
   "metadata": {},
   "outputs": [
    {
     "data": {
      "text/plain": [
       "      fun: 3714.803094522761\n",
       " hess_inv: <2x2 LbfgsInvHessProduct with dtype=float64>\n",
       "      jac: array([-0.00077307, -0.0001819 ])\n",
       "  message: b'CONVERGENCE: REL_REDUCTION_OF_F_<=_FACTR*EPSMCH'\n",
       "     nfev: 57\n",
       "      nit: 18\n",
       "   status: 0\n",
       "  success: True\n",
       "        x: array([ 1.2625768, 12.1066433])"
      ]
     },
     "execution_count": 37,
     "metadata": {},
     "output_type": "execute_result"
    }
   ],
   "source": [
    "minimize(ll_gamma, (1,1), args = (X), method=\"L-BFGS-B\", bounds= [(1e-5, np.inf),(1e-5, np.inf)])"
   ]
  },
  {
   "cell_type": "markdown",
   "metadata": {},
   "source": [
    "# 30 September, 2019"
   ]
  },
  {
   "cell_type": "markdown",
   "metadata": {},
   "source": [
    "## Differences between discrete and continuous RVs\n",
    "\n",
    "### Discrete:\n",
    "$$\\sum_S f(x)=1$$\n",
    "\n",
    "### Continuous:\n",
    "$$\\int_S f(x) =1$$\n",
    "\n",
    "For a continuous random variable\n",
    "$$\\textbf{E}(g(x)) = \\int_S g(x)*f(x)dx$$"
   ]
  },
  {
   "cell_type": "markdown",
   "metadata": {},
   "source": [
    "**EX**  \n",
    "Let $X\\sim\\text{exponential}(\\lambda)$\n",
    "$$f(x|\\lambda) = \\lambda e^{-\\lambda x}$$\n",
    "$$x > 0, \\lambda > 0$$\n",
    "\n",
    "$$\\textbf{E}(x)=\\int_0^\\infty x*f(x|\\lambda)dx$$\n",
    "$$=\\int_0^\\infty x * \\lambda e^{-\\lambda x} dx$$\n",
    "Integration by parts  \n",
    "$\\lambda\\int_0^\\infty xe^{-\\lambda x}dx$\n",
    "$uv - \\int v du$\n",
    "$u = x$, $dv = e^{-\\lambda x}$  \n",
    "$du = dx$, $v = -\\frac{1}{\\lambda} e^{-\\lambda x}$\n",
    "$$\\lambda(\\frac{-x}{\\lambda}e^{-\\lambda x} + \\frac{1}{\\lambda}\\int e^{-\\lambda x}dx$$\n",
    "$$=\\lambda(\\frac{-x}{\\lambda}e^{-\\lambda x}-\\frac{1}{\\lambda^2}e^{\\lambda x}\\big|_0^\\infty$$"
   ]
  },
  {
   "cell_type": "code",
   "execution_count": 38,
   "metadata": {},
   "outputs": [],
   "source": [
    "np.random.seed(16)\n",
    "N=1001\n",
    "a=1.24\n",
    "b=12.43\n",
    "x=np.random.gamma(a,b,size=N)"
   ]
  },
  {
   "cell_type": "code",
   "execution_count": 39,
   "metadata": {},
   "outputs": [],
   "source": [
    "theta = minimize(ll_gamma, (1,1), args = (X), method=\"L-BFGS-B\", bounds= [(1e-5, np.inf),(1e-5, np.inf)])"
   ]
  },
  {
   "cell_type": "code",
   "execution_count": 40,
   "metadata": {},
   "outputs": [
    {
     "data": {
      "text/plain": [
       "15.285590639370199"
      ]
     },
     "execution_count": 40,
     "metadata": {},
     "output_type": "execute_result"
    }
   ],
   "source": [
    "X.mean()"
   ]
  },
  {
   "cell_type": "code",
   "execution_count": 41,
   "metadata": {},
   "outputs": [
    {
     "data": {
      "text/plain": [
       "15.28556695638821"
      ]
     },
     "execution_count": 41,
     "metadata": {},
     "output_type": "execute_result"
    }
   ],
   "source": [
    "theta[\"x\"][0] * theta[\"x\"][1]"
   ]
  },
  {
   "cell_type": "markdown",
   "metadata": {},
   "source": [
    "# 07 October, 2019"
   ]
  },
  {
   "cell_type": "markdown",
   "metadata": {},
   "source": [
    "$$X\\sim\\text{Normal}(\\mu,\\sigma^2)$$\n",
    "$$\\textbf{E}(X)=\\mu$$\n",
    "$$\\textbf{V}(X)=\\sigma^2$$\n",
    "Since both the expected value and the variance is such a nice simple aspect, we include them as the parameter.\n",
    "\n",
    "The aspect of a Normal Random Variable is that the most populus is in the center of the distribution.\n",
    "\n",
    "Lets define a new RV that's just $X-\\mu$  \n",
    "Let $Y=X-\\mu$  \n",
    "By this, we can say\n",
    "$$E(Y)=E(X-\\mu)$$\n",
    "$$=E(X)-\\mu$$\n",
    "$$=\\mu-\\mu$$\n",
    "$$=0$$\n",
    "\n",
    "This new RV $Y$ just takes the previous RV $X$ and shifts to center at $0$\n",
    "\n",
    "Let $Y=\\frac{X-\\mu}{\\sigma}$\n",
    "$$E(Y)=E(\\frac{X-\\mu}{\\sigma})$$\n",
    "$$=\\frac{1}{\\sigma}E(X-\\mu)$$\n",
    "$$=0$$\n",
    "\n",
    "Let $Y=\\frac{X-\\mu}{\\sigma}$\n",
    "$$V(Y) = V(\\frac{X-\\mu}{\\sigma})$$\n",
    "$$=\\frac{1}{\\sigma^2}V(X-\\mu)$$\n",
    "$$=\\frac{1}{\\sigma^2}V(X)$$\n",
    "$$=1$$\n",
    "\n",
    "This allows a normal RV to be shifted so the center is at zero and the scale is at one\n",
    "\n",
    "$$\\frac{1}{N}\\sum x_n$$\n",
    "If we do a function on a Random Variable, what comes out is a Random Variable. Therefore we can find the expected value of it\n",
    "$$E(\\frac{1}{N}\\sum x_n)$$\n",
    "\"The population mean of sample means\"\n",
    "$$\\frac{1}{N}E(\\sum x_n)$$\n",
    "$$=\\frac{1}{N}\\sum(E(x_n))$$\n",
    "$$=\\frac{1}{N}*N*\\mu$$\n",
    "$$=\\mu$$\n"
   ]
  },
  {
   "cell_type": "markdown",
   "metadata": {},
   "source": [
    "Let $X_1,\\dots,X_N\\sim F$  \n",
    "if $E(X)=\\mu$, $V(X)=\\sigma^2 < \\infty$,  \n",
    "$$\\frac{\\hat{\\mu}-\\mu}{\\frac{\\sigma}{\\sqrt{N}}}\\sim N(0,1)$$\n",
    "\n",
    "If all of our data is independent\n",
    "$$V(\\frac{1}{N}\\sum_{n=1}^{N}x_n)$$\n",
    "$$=\\frac{1}{N^2}V(\\sum x_n)$$\n",
    "Because independence\n",
    "$$=\\frac{1}{N^2}\\sum V(x_n)$$\n",
    "$$=\\frac{\\sigma^2}{N}$$\n",
    "\n",
    "This is how we justify and quantify uncertainty"
   ]
  },
  {
   "cell_type": "markdown",
   "metadata": {},
   "source": [
    "# 09 October, 2019"
   ]
  },
  {
   "cell_type": "markdown",
   "metadata": {},
   "source": [
    "$$X_1,\\dots,X_N\\sim_{iid}F$$\n",
    "Where $iid$ means:\n",
    "  1. $i$ - independent\n",
    "  2. $id$ - Identically distributed -- all data from same population \"If you're looking at humans, an elephand doesn't get in there\""
   ]
  },
  {
   "cell_type": "markdown",
   "metadata": {},
   "source": [
    "## Central Limit Theorem\n",
    "If $E(X)=\\mu$ and $V(X)=\\sigma^2 < \\infty$, then $\\frac{\\hat{\\mu}-\\mu}{\\frac{\\sigma}{\\sqrt{N}}}\\sim_. N(0,1)$\n",
    "\n",
    "Meaning that there is a normal curve centered at 0 with an average squared distance of 1"
   ]
  },
  {
   "cell_type": "code",
   "execution_count": 42,
   "metadata": {},
   "outputs": [],
   "source": [
    "R = 1001\n",
    "N = 30\n",
    "p = 0.64\n",
    "muhats = np.full(R, np.nan)\n",
    "for r in range(R):\n",
    "    muhats[r] = np.random.binomial(1, p, N).mean()"
   ]
  },
  {
   "cell_type": "code",
   "execution_count": 43,
   "metadata": {},
   "outputs": [],
   "source": [
    "z = (muhats - p) / (np.sqrt(((p*(1-p))/30)))\n"
   ]
  },
  {
   "cell_type": "code",
   "execution_count": 44,
   "metadata": {},
   "outputs": [
    {
     "data": {
      "image/png": "[encoded data removed]",
      "text/plain": [
       "<Figure size 432x288 with 1 Axes>"
      ]
     },
     "metadata": {
      "needs_background": "light"
     },
     "output_type": "display_data"
    }
   ],
   "source": [
    "bp.density(z)\n",
    "bp.histogram(z)"
   ]
  },
  {
   "cell_type": "markdown",
   "metadata": {},
   "source": [
    "# 10 October, 2019"
   ]
  },
  {
   "cell_type": "markdown",
   "metadata": {},
   "source": [
    "Issues with Central Limit Theorem\n",
    "\n",
    "If $\\hat{\\mu}$ is our best guess -- why do we have $\\mu$  \n",
    "How do we get around the dependence on population parameters\n",
    "\n",
    "How do we deal with a single data set?"
   ]
  },
  {
   "cell_type": "markdown",
   "metadata": {},
   "source": [
    "**Dealing with Dependence on Parameters**  \n",
    "The most important aspect of the Central Limit Theorem is the standard deviation of the sample mean (The denomenator $\\frac{\\sigma}{\\sqrt{N}}$)"
   ]
  },
  {
   "cell_type": "code",
   "execution_count": 45,
   "metadata": {},
   "outputs": [],
   "source": [
    "R = 1001\n",
    "muhats = np.full(R, np.nan)\n",
    "for r in range(R):\n",
    "    muhats[r] = np.median(np.random.normal(np.pi, 2, 10))"
   ]
  },
  {
   "cell_type": "code",
   "execution_count": 46,
   "metadata": {},
   "outputs": [
    {
     "data": {
      "text/plain": [
       "array([3.12333154, 3.32658109, 3.42856965, ..., 2.59372924, 2.60734789,\n",
       "       2.42904414])"
      ]
     },
     "execution_count": 46,
     "metadata": {},
     "output_type": "execute_result"
    }
   ],
   "source": [
    "muhats"
   ]
  },
  {
   "cell_type": "code",
   "execution_count": 47,
   "metadata": {},
   "outputs": [
    {
     "name": "stdout",
     "output_type": "stream",
     "text": [
      "3.123693090123138\n",
      "0.7369192690558536\n"
     ]
    }
   ],
   "source": [
    "print(muhats.mean())\n",
    "print(muhats.std())"
   ]
  },
  {
   "cell_type": "code",
   "execution_count": 48,
   "metadata": {},
   "outputs": [
    {
     "data": {
      "text/plain": [
       "[<matplotlib.lines.Line2D at 0x7f72b278df98>]"
      ]
     },
     "execution_count": 48,
     "metadata": {},
     "output_type": "execute_result"
    },
    {
     "data": {
      "image/png": "[encoded data removed]",
      "text/plain": [
       "<Figure size 432x288 with 1 Axes>"
      ]
     },
     "metadata": {
      "needs_background": "light"
     },
     "output_type": "display_data"
    }
   ],
   "source": [
    "bp.density(muhats)\n",
    "#bp.density(muhats2, color=\"orange\")"
   ]
  },
  {
   "cell_type": "markdown",
   "metadata": {},
   "source": [
    "# 14 October, 2019"
   ]
  },
  {
   "cell_type": "markdown",
   "metadata": {},
   "source": [
    "Let $X\\sim\\text{Normal}(\\mu,\\sigma^2)$  \n",
    "$E(X)=\\mu$  \n",
    "We can estimate the population mean by taking a bunch of samples and dividing how many there are\n",
    "\n",
    "Let $\\hat{\\mu}=\\frac{1}{N}\\sum_{n=1}^{N}X_n$  \n",
    "$E(\\hat{\\mu})$  \n",
    "for $\\hat{\\mu}_1,\\dots,\\hat{\\mu}_R\\sim^.N(\\mu,\\frac{\\sigma^2}{N})$\n",
    "\n",
    "Let $T(\\underline{x})$  \n",
    "$E(\\hat{T})$  \n",
    "$\\hat{T}_1,\\dots,\\hat{T}_R\\sim ?$  \n",
    "We don't know what $T$ is, but we don't care. We know that the population parameter will be centered at $T$ and it's variance will be over $N$ samples"
   ]
  },
  {
   "cell_type": "code",
   "execution_count": 52,
   "metadata": {},
   "outputs": [
    {
     "data": {
      "text/plain": [
       "array([4, 1, 3, 2, 2])"
      ]
     },
     "execution_count": 52,
     "metadata": {},
     "output_type": "execute_result"
    }
   ],
   "source": [
    "Y = np.asarray([1,2,3,4,6])\n",
    "np.random.choice(Y, replace=True, size=5)"
   ]
  },
  {
   "cell_type": "markdown",
   "metadata": {},
   "source": [
    "Re sampling from our original samples is just a good of guess as any, and allows us to find standard deviations and uncertainty"
   ]
  },
  {
   "cell_type": "code",
   "execution_count": 50,
   "metadata": {},
   "outputs": [],
   "source": [
    "X = np.random.normal(np.pi, 2, 1001)\n",
    "N = X.size\n",
    "R = 1001\n",
    "muhats = np.full(R, np.nan)\n",
    "for i in range(R):\n",
    "    muhats[r] = np.std(np.random.choice(X, replace=True, size=N))"
   ]
  },
  {
   "cell_type": "markdown",
   "metadata": {},
   "source": [
    "The formal name for the shape that a summary statistic takes on (when you think of it as a Random Variable) is the **sampling distribution**.  \n",
    "All summary statistics have sampling distributions. The central limit theorem tells us the sampling distribution of the sample mean is approximately normal.  \n",
    "Summary statistics are to be thought of as random variables, meaning they have sampling distributions under repeated sampling"
   ]
  }
 ],
 "metadata": {
  "kernelspec": {
   "display_name": "Python 3",
   "language": "python",
   "name": "python3"
  },
  "language_info": {
   "codemirror_mode": {
    "name": "ipython",
    "version": 3
   },
   "file_extension": ".py",
   "mimetype": "text/x-python",
   "name": "python",
   "nbconvert_exporter": "python",
   "pygments_lexer": "ipython3",
   "version": "3.7.3"
  }
 },
 "nbformat": 4,
 "nbformat_minor": 2
}
