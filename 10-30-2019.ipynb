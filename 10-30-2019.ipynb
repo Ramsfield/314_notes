{
 "cells": [
  {
   "cell_type": "code",
   "execution_count": 1,
   "metadata": {},
   "outputs": [],
   "source": [
    "import numpy as np\n",
    "import pandas as pd\n",
    "from scipy.stats import norm as normal, binom\n",
    "import bplot as bp\n",
    "from scipy.optimize import minimize\n",
    "from scipy.special import loggamma\n",
    "import patsy"
   ]
  },
  {
   "cell_type": "markdown",
   "metadata": {},
   "source": [
    "# 30, October 2019"
   ]
  },
  {
   "cell_type": "code",
   "execution_count": 2,
   "metadata": {},
   "outputs": [],
   "source": [
    "def ll_normal(beta, yX):\n",
    "    y = yX[:, 0]\n",
    "    X = yX[:, 1:]\n",
    "    N = X.shape[0]\n",
    "    mu = np.full(N, np.nan)\n",
    "    for n in range(N):\n",
    "        mu[n] = np.sum(X[n, :] * beta)\n",
    "        \n",
    "    d = y - mu\n",
    "    return np.sum(d*d)\n",
    "\n",
    "def optim(data, initval = None):\n",
    "    return minimize(ll_normal, (initval if initval else np.random.normal()), args=(data), method=\"BFGS\")[\"x\"]\n",
    "\n",
    "def bootstrap(data, R, fun, confidence=87):\n",
    "    N = data.size\n",
    "    thetas = np.full(R, np.nan)\n",
    "    for r in range(R):\n",
    "        idx = np.random.choice(N, N, replace=True)\n",
    "        thetas[r] = fun(data[idx])\n",
    "    cmin = (100-confidence)/2\n",
    "    cmax = cmin + confidence\n",
    "    return np.percentile(thetas, [cmin, cmax])"
   ]
  },
  {
   "cell_type": "code",
   "execution_count": 12,
   "metadata": {},
   "outputs": [
    {
     "data": {
      "text/plain": [
       "<matplotlib.axes._subplots.AxesSubplot at 0x7f5f2d160e48>"
      ]
     },
     "execution_count": 12,
     "metadata": {},
     "output_type": "execute_result"
    },
    {
     "data": {
      "image/png": "[encoded data removed]",
      "text/plain": [
       "<Figure size 432x288 with 1 Axes>"
      ]
     },
     "metadata": {
      "needs_background": "light"
     },
     "output_type": "display_data"
    }
   ],
   "source": [
    "df = pd.read_csv(\"https://raw.githubusercontent.com/roualdes/data/master/possum.csv\")\n",
    "for i, (name, gdf) in enumerate(df.groupby('pop')):\n",
    "    bp.jitter(np.repeat(i, gdf['totalL'].size), gdf['totalL'], jitter_y=0, label=name, color = bp.color[i])\n",
    "\n",
    "bp.xticks([0,1], np.unique(df['pop']))\n",
    "bp.title(\"Lengths of possums based off of location\")\n",
    "bp.labels(x=\"Population\", y=\"Total length (cm)\")\n",
    "bp.legend()"
   ]
  },
  {
   "cell_type": "markdown",
   "metadata": {},
   "source": [
    "### Categorical Variables\n",
    "Categorical variables have **levels** which correspond to the groups within a catagorical variable. For our instance, \"other\" and \"vic\" are both levels, meaning this dataset has two levels for the categorical variable \"pop\""
   ]
  },
  {
   "cell_type": "markdown",
   "metadata": {},
   "source": [
    "### Generally\n",
    "$Y_n$ is unique for each observation and $Y_n \\sim N(\\mu_n, \\sigma^2)$ Where $_n$ denotes each observation and  \n",
    "$\\mu_n=\\beta_0+\\beta_1 * X_n$\n",
    "\n",
    "### Specifically (To this data set)\n",
    "$$\\text{TotalL}_n\\sim N(\\mu_n, \\sigma^2)$$\n",
    "$$\\mu_n=\\beta_0+\\beta_1*\\text{vic}_n$$\n",
    "Basically stating that if a possom came from vic, $\\text{vic}_n$ is 1, otherwise, it is 0"
   ]
  },
  {
   "cell_type": "markdown",
   "metadata": {},
   "source": [
    "## Simplified Log-likelihood for nomarl RV's\n",
    "$$\\sum(y_n-\\mu)^2$$\n",
    "We have replaced $\\mu$ so we now have\n",
    "$$\\sum(y_n-(\\beta_0+\\beta_1*x_n))^2$$"
   ]
  },
  {
   "cell_type": "code",
   "execution_count": 17,
   "metadata": {},
   "outputs": [
    {
     "data": {
      "text/plain": [
       "array([[81.5,  1. ,  0. ],\n",
       "       [82.5,  1. ,  0. ],\n",
       "       [89. ,  1. ,  0. ],\n",
       "       [82.5,  1. ,  0. ],\n",
       "       [89. ,  1. ,  0. ]])"
      ]
     },
     "execution_count": 17,
     "metadata": {},
     "output_type": "execute_result"
    }
   ],
   "source": [
    "X = patsy.dmatrix(\" ~C(pop)\", data=df)\n",
    "yX = np.c_[df[\"totalL\"], X]\n",
    "yX[-5:, :]"
   ]
  }
 ],
 "metadata": {
  "kernelspec": {
   "display_name": "Python 3",
   "language": "python",
   "name": "python3"
  },
  "language_info": {
   "codemirror_mode": {
    "name": "ipython",
    "version": 3
   },
   "file_extension": ".py",
   "mimetype": "text/x-python",
   "name": "python",
   "nbconvert_exporter": "python",
   "pygments_lexer": "ipython3",
   "version": "3.7.3"
  }
 },
 "nbformat": 4,
 "nbformat_minor": 2
}
