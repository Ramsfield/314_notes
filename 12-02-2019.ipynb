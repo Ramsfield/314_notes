{
 "cells": [
  {
   "cell_type": "code",
   "execution_count": 1,
   "metadata": {},
   "outputs": [],
   "source": [
    "import numpy as np\n",
    "import pandas as pd\n",
    "from scipy.stats import norm as normal, binom\n",
    "import bplot as bp\n",
    "from scipy.optimize import minimize\n",
    "from scipy.special import loggamma\n",
    "import patsy\n",
    "import multiprocessing\n",
    "from joblib import Parallel, delayed\n",
    "\n",
    "from math314 import optim, pbootstrap as bootstrap, adjustedR2 as ar2"
   ]
  },
  {
   "cell_type": "markdown",
   "metadata": {},
   "source": [
    "# 2 December 2019"
   ]
  },
  {
   "cell_type": "code",
   "execution_count": 4,
   "metadata": {},
   "outputs": [],
   "source": [
    "df = pd.read_csv(\"https://raw.githubusercontent.com/roualdes/data/master/possum.csv\")"
   ]
  },
  {
   "cell_type": "code",
   "execution_count": 11,
   "metadata": {},
   "outputs": [
    {
     "data": {
      "text/plain": [
       "0.4776104985770261"
      ]
     },
     "execution_count": 11,
     "metadata": {},
     "output_type": "execute_result"
    }
   ],
   "source": [
    "r=df[[\"headL\",\"totalL\"]].corr()[\"totalL\"][0]\n",
    "r*r"
   ]
  },
  {
   "cell_type": "markdown",
   "metadata": {},
   "source": [
    "\"Head length can explain total length variation by about 47.7%\""
   ]
  },
  {
   "cell_type": "code",
   "execution_count": 17,
   "metadata": {},
   "outputs": [],
   "source": [
    "X = patsy.dmatrix(\"~ headL\", data=df)\n",
    "yX = np.c_[df.totalL, X]\n",
    "betahat = optim(yX)\n",
    "N = yX.shape[0]\n",
    "k = yX.shape[1]-1\n",
    "mu = np.full(N, np.nan)\n",
    "for n in range(N):\n",
    "    mu[n] = np.sum(yX[n, 1:] * betahat)"
   ]
  },
  {
   "cell_type": "code",
   "execution_count": 18,
   "metadata": {},
   "outputs": [
    {
     "data": {
      "text/plain": [
       "[<matplotlib.lines.Line2D at 0x7f6874261208>]"
      ]
     },
     "execution_count": 18,
     "metadata": {},
     "output_type": "execute_result"
    },
    {
     "data": {
      "image/png": "[encoded data removed]",
      "text/plain": [
       "<Figure size 432x288 with 1 Axes>"
      ]
     },
     "metadata": {
      "needs_background": "light"
     },
     "output_type": "display_data"
    }
   ],
   "source": [
    "bp.point(df.headL, df.totalL)\n",
    "bp.line(df['headL'], mu, color = bp.color[1], size=5)"
   ]
  },
  {
   "cell_type": "code",
   "execution_count": 20,
   "metadata": {},
   "outputs": [
    {
     "data": {
      "text/plain": [
       "0.4724890328604636"
      ]
     },
     "execution_count": 20,
     "metadata": {},
     "output_type": "execute_result"
    }
   ],
   "source": [
    "ar2(df.totalL, mu, k)"
   ]
  },
  {
   "cell_type": "markdown",
   "metadata": {},
   "source": [
    "We use adjusted $R^2$ which explains\n",
    "$$1-\\frac{\\text{Variance in error}}{\\text{Variance in variable}} * \\frac{\\text{Number of observations - 1}}{\\text{Number of observations - number of explanatory parameters}}$$\n",
    "\n",
    "By this formula, adjusted $R^2$ will always be more conservative than $R^2$"
   ]
  },
  {
   "cell_type": "markdown",
   "metadata": {},
   "source": [
    "We are going to work on extending the model we have so far. We will attempt to combine k-means and simple linear regression."
   ]
  },
  {
   "cell_type": "markdown",
   "metadata": {},
   "source": [
    "## K - Means\n",
    "Y - is going to be a numerical variable, X is a categorical. For this model, we are trying to predict y based off of the level on the X axis explanatory variable. We focused on the mean for a base level and then the offset for each other level relative to the first mean.\n",
    "\n",
    "We had a model that said the response variable (numerical observation Y) is going to be normal random variables with a mean that depended on the level we're looking at:\n",
    "$$Y_n\\sim N(\\mu_n, \\sigma^2)$$\n",
    "$$\\mu_n = \\beta_0 + \\beta_1*X_B + \\beta_2 * X_C$$"
   ]
  },
  {
   "cell_type": "markdown",
   "metadata": {},
   "source": [
    "## Simple Linear Regression\n",
    "Y and X are both numerical variables for Simple Linear Regression. The biggest difference between this and K-Means is that X is numerical and not categorical.\n",
    "$$Y_n \\sim N(\\mu_n, \\sigma^2)$$\n",
    "$$\\mu_n = \\beta_0 + \\beta_1*X_n$$"
   ]
  },
  {
   "cell_type": "markdown",
   "metadata": {},
   "source": [
    "## Multiple Linear Regression\n",
    "Multiple explanatory variables to explain a single response variable. This is a combination of the K-Means model and the Simple Linear Regression model. We wish to take a numerical explanatory variable and a categorical explanatory variable to attempt to explain a response variable.\n",
    "$$\\mu_n = \\beta_0+\\beta_1*X_M+\\beta_2*\\text{headL}_n$$"
   ]
  },
  {
   "cell_type": "markdown",
   "metadata": {},
   "source": [
    "This means to find the intercept for (males in this instance females being the base), we could find $\\beta_0 + \\beta_1$\n",
    "and we can show females line as $\\beta_0 + \\beta_2 * \\text{headL}_n$ and for males $(\\beta_0 + \\beta_1) + \\beta_2 * \\text{headL}_n$"
   ]
  },
  {
   "cell_type": "code",
   "execution_count": 28,
   "metadata": {},
   "outputs": [],
   "source": [
    "X = patsy.dmatrix(\" ~ C(sex) + headL\", data=df)\n",
    "yX = np.c_[df.totalL, X]\n",
    "betahat = optim(yX)"
   ]
  },
  {
   "cell_type": "code",
   "execution_count": 29,
   "metadata": {},
   "outputs": [
    {
     "data": {
      "text/plain": [
       "array([ 8.26149176, -2.06457808,  0.86431351])"
      ]
     },
     "execution_count": 29,
     "metadata": {},
     "output_type": "execute_result"
    }
   ],
   "source": [
    "betahat"
   ]
  },
  {
   "cell_type": "markdown",
   "metadata": {},
   "source": [
    "The rest of our code magically works, as long as we have the correct design matrix\n",
    "\n",
    "If a female possum had no head length, we would expect it to have a total length of 8.26cm  \n",
    "If a male possum had no head length, we would expect it to have a total length of (8.26 - 2.06)cm  \n",
    "For both male and female possums, we could expect that for every 1mm of head length increase, we would expect an 0.864 cm total length increase."
   ]
  },
  {
   "cell_type": "code",
   "execution_count": 37,
   "metadata": {},
   "outputs": [
    {
     "data": {
      "text/plain": [
       "array([-28.72162395,  45.08366762,   1.26565461,  -0.51073421])"
      ]
     },
     "execution_count": 37,
     "metadata": {},
     "output_type": "execute_result"
    }
   ],
   "source": [
    "X = patsy.dmatrix(\" ~ C(sex) + headL + C(sex):headL\", data=df)\n",
    "yX = np.c_[df.totalL, X]\n",
    "betahat = optim(yX)\n",
    "betahat"
   ]
  }
 ],
 "metadata": {
  "kernelspec": {
   "display_name": "Python 3",
   "language": "python",
   "name": "python3"
  },
  "language_info": {
   "codemirror_mode": {
    "name": "ipython",
    "version": 3
   },
   "file_extension": ".py",
   "mimetype": "text/x-python",
   "name": "python",
   "nbconvert_exporter": "python",
   "pygments_lexer": "ipython3",
   "version": "3.7.3"
  }
 },
 "nbformat": 4,
 "nbformat_minor": 2
}
