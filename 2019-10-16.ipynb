{
 "cells": [
  {
   "cell_type": "markdown",
   "metadata": {},
   "source": [
    "# 16, October 2019"
   ]
  },
  {
   "cell_type": "code",
   "execution_count": 2,
   "metadata": {},
   "outputs": [],
   "source": [
    "import numpy as np\n",
    "import pandas as pd\n",
    "from scipy.stats import norm as normal, binom\n",
    "import bplot as bp\n",
    "from scipy.optimize import minimize\n",
    "from scipy.special import loggamma"
   ]
  },
  {
   "cell_type": "markdown",
   "metadata": {},
   "source": [
    "## Questions\n",
    "  1. Lab 5 -- On number 5, a size of (R, 2) meaning its a 2d array with R rows and 2 columns, all with NAN. Size can take a touple as an argument. Numpy will let you do $n$ dimensional arrays."
   ]
  },
  {
   "cell_type": "markdown",
   "metadata": {},
   "source": [
    "## Introducing Ideas Conceptually\n",
    "We theorize we have $N$ data points from some population (we don't care where from).\n",
    "$$X_1,\\dots,X_N\\rightarrow T(\\underline{x})$$\n",
    "Where we're interested in some function $T$, but we do not care what function.\n",
    "\n",
    "If $T$ is a guess for a population parameter? How good of a guess is it?  \n",
    "We want to quantify our uncertainty of this parameter (in average squared distance from the parameter)\n",
    "\n",
    "We do this by sampling from our original dataset.  \n",
    "### Bootstrap Procedure\n",
    "Take a new sample (we're gonna call it doubly indexed)\n",
    "$$X_{11},\\dots,X_{1N}$$\n",
    "$$X_{21},\\dots,X_{2N}$$\n",
    "We resample from the original data to simulate resampling from the population. What might be a problem is that if your sample misses an entire section of the support.  \n",
    "**EX**:\n",
    "For example, finding out who is going to win the next presidential election. If you call people on a Friday night, you're entirely missing those who do not have phones and/or missing those who go out Friday night. This is called **biased sampling**. Our goal is that our one sample is unbaised and random.\n",
    "\n",
    "In order to quantify our uncertainty, we should repeatedly re-sample *the same size* from our original, replacing the sample when it's picked (so that it could potentially be sampled multiple times). This allows us to have new sets different from the original set. We should be doing this procedure $R$ times.\n",
    "\n",
    "For each of these new sets, we retake the function $T$ on the data, so we have $R$ sample statistics each of which estimating the population parameter as determined by $T$.\n",
    "\n",
    "If $T(\\underline{x})=\\frac{1}{N}\\sum X_n$, then the *sampling distribution* of the curve for the sample mean is approximately normal by the *Central Limit Theorem*  \n",
    "We're trying to understand how the R.V. $T$ behaves from sample to sample thus, it is called the *sampling distribution*.\n",
    "\n",
    "The nice part about the *Bootstrap Procedure* is that it doesn't matter if the function of the data is the sample mean. This means we can still approximate it, and it's not necessarily normal.  \n",
    "Whatever sampling distribution is centered around, it is the estimate for the population parameter.\n",
    "*The whole point of this procedure is not to estimate the population parameter, but to find our uncertainty. The width of the sampling distribution tells us how certain (or uncertain) we are on guessing the population parameter.*  \n",
    "The standard deviation of the sample mean can be represented as $\\frac{\\sigma}{\\sqrt{N}}$ and because $N$ is in the denominator, the more samples we have the more certain we can become -- as the sample size goes up, our uncertainty goes down.\n",
    "\n",
    "The standard deviation of the sample mean is called the **Standard Error**.\n",
    "\n",
    "There is a standard error for other parameters $T$, we just don't necessarily know the formula. The only thing we do know is that the formula has the form $\\frac{1}{\\sqrt{N}}$ But we don't need to know the full formula. As long as we have an array of guesses for $T$, then we can just find the standard deviation for the array and estimate the standard error.\n",
    "\n",
    "**For Clarity's Sake: The bootstrap method isn't helpful for finding the mean of the population. We can find that with the original sample (which is as good a guess as any resampled data). We only want this for finding our error**"
   ]
  },
  {
   "cell_type": "markdown",
   "metadata": {},
   "source": [
    "### Percentile\n",
    "We are interested in a range of values that we are some percent positive that the true population parameter is within that range. We find this based on the width of the sampling distribution.\n",
    "\n",
    "\"The median is the 50th percentile\"\n",
    "\n",
    "If we had a set 1,2,3,4,5 -- the median (or $m$) is 3  \n",
    "If we had a set 1,2,3,4 -- $m$ = 2.5, the number doesn't have to be within the support.\n",
    "\n",
    "For example \"The average household has 2.2 children\" This doesn't mean each household has .2 of a child.\n",
    "\n",
    "**Median** -- If we had a continuous random variable, the median would be for some value $m$ is the midpoint such that the area under the curve is half on one side and half on the other side, and such that the area under the density curve integrates to 1.\n",
    "$$\\int_{-\\infty}^{m}f(x)dx=0.5$$\n",
    "This formula generalizes finding the median. The percentile is always defined (in statistics) in area of the function to the left of the statistic.  \n",
    "0.5 dictates the percentile. For instance:\n",
    "$$\\int_{-\\infty}^{\\pi_p}f(x)dx = p$$ \n",
    "Would say that $\\pi_p$ is $p$ percentile."
   ]
  },
  {
   "cell_type": "markdown",
   "metadata": {},
   "source": [
    "## Edward's Wild Claim\n",
    "If we had a random sampling distribution on some function $T$, there is a value $\\pi_{0.025}$ and a value $\\pi_{0.975}$ that has a difference of $0.95$, meaning that we can say we're 95% certain that the true population parameter lies between tese two numbers. As our sample size goes up, these numbers will get closer together (eventually collapsing on a single number)"
   ]
  },
  {
   "cell_type": "markdown",
   "metadata": {},
   "source": [
    "***Tomorrow is a lab. We're going to have a quiz Friday***"
   ]
  }
 ],
 "metadata": {
  "kernelspec": {
   "display_name": "Python 3",
   "language": "python",
   "name": "python3"
  },
  "language_info": {
   "codemirror_mode": {
    "name": "ipython",
    "version": 3
   },
   "file_extension": ".py",
   "mimetype": "text/x-python",
   "name": "python",
   "nbconvert_exporter": "python",
   "pygments_lexer": "ipython3",
   "version": "3.7.3"
  }
 },
 "nbformat": 4,
 "nbformat_minor": 2
}
