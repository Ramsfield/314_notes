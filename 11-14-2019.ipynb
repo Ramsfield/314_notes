{
 "cells": [
  {
   "cell_type": "code",
   "execution_count": 24,
   "metadata": {},
   "outputs": [],
   "source": [
    "import numpy as np\n",
    "import pandas as pd\n",
    "from scipy.stats import norm as normal, binom\n",
    "import bplot as bp\n",
    "from scipy.optimize import minimize\n",
    "from scipy.special import loggamma\n",
    "import patsy\n",
    "import multiprocessing\n",
    "from joblib import Parallel, delayed"
   ]
  },
  {
   "cell_type": "code",
   "execution_count": 22,
   "metadata": {},
   "outputs": [],
   "source": [
    "def ll_normal(beta, yX):\n",
    "    y = yX[:, 0]\n",
    "    X = yX[:, 1:]\n",
    "    N = X.shape[0]\n",
    "    mu = np.full(N, np.nan)\n",
    "    for n in range(N):\n",
    "        mu[n] = np.sum(X[n, :] * beta)\n",
    "        \n",
    "    d = y - mu\n",
    "    return np.sum(d*d)\n",
    "\n",
    "def optim(data, initval = None):\n",
    "    k = data.shape[1]-1\n",
    "    return minimize(ll_normal, (initval if initval else np.random.normal(size = k)), args=(data), method=\"BFGS\")[\"x\"]\n",
    "\n",
    "def bootstrap(data, R, fun, jobs=None):\n",
    "    if jobs is None or jobs < 1:\n",
    "        jobs = multiprocessing.cpu_count()\n",
    "    N, k = data.shape\n",
    "    k -= 1\n",
    "    thetas = np.full((R, k), np.nan)\n",
    "    thetas[:, :] = Parallel(n_jobs=jobs)(delayed(fun)(data[np.random.choice(N, N, replace=True), :]) for r in range(R))\n",
    "    return thetas"
   ]
  },
  {
   "cell_type": "markdown",
   "metadata": {},
   "source": [
    "# 14 November 2019"
   ]
  },
  {
   "cell_type": "markdown",
   "metadata": {},
   "source": [
    "Going to be looking at a new data set using elmhurst data\n",
    "\n",
    "www.github.com/roualdes/data/blob/master/elmhurst.txt"
   ]
  },
  {
   "cell_type": "code",
   "execution_count": 11,
   "metadata": {},
   "outputs": [],
   "source": [
    "df = pd.read_csv(\"https://raw.githubusercontent.com/roualdes/data/master/elmhurst.csv\")"
   ]
  },
  {
   "cell_type": "markdown",
   "metadata": {},
   "source": [
    "We are going to practice **Simple Linear Regression** using this new data set. We will focus on the Family income and gift aid (both in thousands of dollars) variables.\n",
    "\n",
    "Family income is going to be the explanatory variable with our intuition explaining that the more a family makes, the less aid they will receive.\n",
    "\n",
    "Gift aid will be our response variable.\n",
    "$$Y_n\\sim N(\\mu_n,\\sigma^2)$$\n",
    "$$\\mu_n=\\beta_0+\\beta_1*x_n$$"
   ]
  },
  {
   "cell_type": "code",
   "execution_count": 13,
   "metadata": {},
   "outputs": [
    {
     "data": {
      "text/html": [
       "<div>\n",
       "<style scoped>\n",
       "    .dataframe tbody tr th:only-of-type {\n",
       "        vertical-align: middle;\n",
       "    }\n",
       "\n",
       "    .dataframe tbody tr th {\n",
       "        vertical-align: top;\n",
       "    }\n",
       "\n",
       "    .dataframe thead th {\n",
       "        text-align: right;\n",
       "    }\n",
       "</style>\n",
       "<table border=\"1\" class=\"dataframe\">\n",
       "  <thead>\n",
       "    <tr style=\"text-align: right;\">\n",
       "      <th></th>\n",
       "      <th>family_income</th>\n",
       "      <th>gift_aid</th>\n",
       "      <th>price_paid</th>\n",
       "    </tr>\n",
       "  </thead>\n",
       "  <tbody>\n",
       "    <tr>\n",
       "      <td>0</td>\n",
       "      <td>92.922</td>\n",
       "      <td>21.72</td>\n",
       "      <td>14.28</td>\n",
       "    </tr>\n",
       "    <tr>\n",
       "      <td>1</td>\n",
       "      <td>0.250</td>\n",
       "      <td>27.47</td>\n",
       "      <td>8.53</td>\n",
       "    </tr>\n",
       "    <tr>\n",
       "      <td>2</td>\n",
       "      <td>53.092</td>\n",
       "      <td>27.75</td>\n",
       "      <td>14.25</td>\n",
       "    </tr>\n",
       "    <tr>\n",
       "      <td>3</td>\n",
       "      <td>50.200</td>\n",
       "      <td>27.22</td>\n",
       "      <td>8.78</td>\n",
       "    </tr>\n",
       "    <tr>\n",
       "      <td>4</td>\n",
       "      <td>137.613</td>\n",
       "      <td>18.00</td>\n",
       "      <td>24.00</td>\n",
       "    </tr>\n",
       "  </tbody>\n",
       "</table>\n",
       "</div>"
      ],
      "text/plain": [
       "   family_income  gift_aid  price_paid\n",
       "0         92.922     21.72       14.28\n",
       "1          0.250     27.47        8.53\n",
       "2         53.092     27.75       14.25\n",
       "3         50.200     27.22        8.78\n",
       "4        137.613     18.00       24.00"
      ]
     },
     "execution_count": 13,
     "metadata": {},
     "output_type": "execute_result"
    }
   ],
   "source": [
    "df.head()"
   ]
  },
  {
   "cell_type": "code",
   "execution_count": 15,
   "metadata": {},
   "outputs": [
    {
     "data": {
      "text/plain": [
       "<matplotlib.axes._subplots.AxesSubplot at 0x7f87f5a62278>"
      ]
     },
     "execution_count": 15,
     "metadata": {},
     "output_type": "execute_result"
    },
    {
     "data": {
      "image/png": "[encoded data removed]",
      "text/plain": [
       "<Figure size 432x288 with 1 Axes>"
      ]
     },
     "metadata": {
      "needs_background": "light"
     },
     "output_type": "display_data"
    }
   ],
   "source": [
    "#make a plot\n",
    "bp.point(df[\"family_income\"], df[\"gift_aid\"])\n",
    "bp.labels(x=\"Family Income(in thousands of dollars)\", y=\"Gift Aid (in thousands of dollars)\")"
   ]
  },
  {
   "cell_type": "code",
   "execution_count": 19,
   "metadata": {},
   "outputs": [],
   "source": [
    "X = patsy.dmatrix(\"~ family_income\", data=df)\n",
    "yX = np.c_[df[\"gift_aid\"], X]"
   ]
  },
  {
   "cell_type": "code",
   "execution_count": 29,
   "metadata": {},
   "outputs": [
    {
     "name": "stdout",
     "output_type": "stream",
     "text": [
      "[24.31933182 -0.04307168]\n"
     ]
    }
   ],
   "source": [
    "betahat = optim(yX)\n",
    "print(betahat)"
   ]
  },
  {
   "cell_type": "markdown",
   "metadata": {},
   "source": [
    "### For the intercept:\n",
    "If a family made 0 dollars, we can estimate that they would receive 24.32 (times 1000) dollars.\n",
    "\n",
    "### For the slope:\n",
    "For every thousand dollars a family makes, we can estimate that they would receive 0.04 (times 1000) less aid.\n",
    "\n",
    "### Formula:\n",
    "$$\\mu_n=\\beta_0+\\beta_1*x_n$$\n",
    "$$\\mu_n=24.32 -0.043*x_n$$"
   ]
  },
  {
   "cell_type": "code",
   "execution_count": 30,
   "metadata": {},
   "outputs": [
    {
     "data": {
      "text/plain": [
       "[<matplotlib.lines.Line2D at 0x7f87f2821c50>]"
      ]
     },
     "execution_count": 30,
     "metadata": {},
     "output_type": "execute_result"
    },
    {
     "data": {
      "image/png": "[encoded data removed]",
      "text/plain": [
       "<Figure size 432x288 with 1 Axes>"
      ]
     },
     "metadata": {
      "needs_background": "light"
     },
     "output_type": "display_data"
    }
   ],
   "source": [
    "#We can actually add the line of best fit\n",
    "bp.point(df[\"family_income\"], df[\"gift_aid\"])\n",
    "bp.labels(x=\"Family Income(in thousands of dollars)\", y=\"Gift Aid (in thousands of dollars)\")\n",
    "bp.line(df['family_income'], betahat[0] + betahat[1] * df['family_income'], color = bp.color[1])"
   ]
  },
  {
   "cell_type": "code",
   "execution_count": 36,
   "metadata": {},
   "outputs": [
    {
     "name": "stdout",
     "output_type": "stream",
     "text": [
      "20.012163857496397\n",
      "20.012163857496397\n"
     ]
    }
   ],
   "source": [
    "#Family earns $100,000 in income: What do we predict they would receive in income?\n",
    "income = 100\n",
    "\n",
    "print(betahat[0] + betahat[1]*income)\n",
    "print(np.sum(betahat * np.asarray([1,100])))"
   ]
  },
  {
   "cell_type": "markdown",
   "metadata": {},
   "source": [
    "This states that if a family earns 100,000 dollars, they can expect to receive 20,012 dollars in aid."
   ]
  },
  {
   "cell_type": "code",
   "execution_count": 25,
   "metadata": {},
   "outputs": [],
   "source": [
    "betas = bootstrap(yX, 1001, optim)"
   ]
  },
  {
   "cell_type": "code",
   "execution_count": 59,
   "metadata": {},
   "outputs": [
    {
     "data": {
      "text/plain": [
       "array([[22.8137098 , -0.05933323],\n",
       "       [25.77426434, -0.02859292]])"
      ]
     },
     "execution_count": 59,
     "metadata": {},
     "output_type": "execute_result"
    }
   ],
   "source": [
    "percentiles = np.percentile(betas, [10,90], axis=0)\n",
    "percentiles"
   ]
  },
  {
   "cell_type": "markdown",
   "metadata": {},
   "source": [
    "\"We are 80% confident that if a family did not earn any income, we can expect the aid they receive is between 22.81 thousands of dollars and 25.77 thousands of dollars\"  \n",
    "\"We are 80% confident that for every extra thousand dollars a family earns, we can expect the aid to receive to decrease between 0.02 and 0.05 thousands of dollars\""
   ]
  },
  {
   "cell_type": "markdown",
   "metadata": {},
   "source": [
    "## Get a confidence interval of how much a family could expect to receive in gift aid if their income is 100 (in thousands of dollars)"
   ]
  },
  {
   "cell_type": "markdown",
   "metadata": {},
   "source": [
    "## For loop implementation:"
   ]
  },
  {
   "cell_type": "code",
   "execution_count": 62,
   "metadata": {},
   "outputs": [],
   "source": [
    "R=1001\n",
    "gifthataid = np.full(R, np.nan)\n",
    "for r in range(R):\n",
    "    gifthataid[r] = np.sum(np.asarray([1,100]) * betas[r, :])"
   ]
  },
  {
   "cell_type": "code",
   "execution_count": 65,
   "metadata": {},
   "outputs": [
    {
     "data": {
      "text/plain": [
       "[<matplotlib.lines.Line2D at 0x7f87f285b5f8>]"
      ]
     },
     "execution_count": 65,
     "metadata": {},
     "output_type": "execute_result"
    },
    {
     "data": {
      "image/png": "[encoded data removed]",
      "text/plain": [
       "<Figure size 432x288 with 1 Axes>"
      ]
     },
     "metadata": {
      "needs_background": "light"
     },
     "output_type": "display_data"
    }
   ],
   "source": [
    "bp.density(gifthataid)"
   ]
  },
  {
   "cell_type": "code",
   "execution_count": 66,
   "metadata": {},
   "outputs": [
    {
     "data": {
      "text/plain": [
       "array([19.15986219, 20.87536983])"
      ]
     },
     "execution_count": 66,
     "metadata": {},
     "output_type": "execute_result"
    }
   ],
   "source": [
    "np.percentile(gifthataid, [10,90])"
   ]
  },
  {
   "cell_type": "code",
   "execution_count": 69,
   "metadata": {},
   "outputs": [
    {
     "data": {
      "text/plain": [
       "<matplotlib.axes._subplots.AxesSubplot at 0x7f87f58ebbe0>"
      ]
     },
     "execution_count": 69,
     "metadata": {},
     "output_type": "execute_result"
    },
    {
     "data": {
      "image/png": "[encoded data removed]",
      "text/plain": [
       "<Figure size 432x288 with 1 Axes>"
      ]
     },
     "metadata": {
      "needs_background": "light"
     },
     "output_type": "display_data"
    }
   ],
   "source": [
    "#Add our betas\n",
    "for r in range(R):\n",
    "    bp.line(df['family_income'], betas[r,0] + betas[r,1]*df['family_income'], color = \"orange\", alpha=0.01)\n",
    "bp.point(df[\"family_income\"], df[\"gift_aid\"])\n",
    "bp.labels(x=\"Family Income(in thousands of dollars)\", y=\"Gift Aid (in thousands of dollars)\")"
   ]
  },
  {
   "cell_type": "code",
   "execution_count": 67,
   "metadata": {},
   "outputs": [
    {
     "name": "stdout",
     "output_type": "stream",
     "text": [
      "[16.88038703 22.91497222]\n"
     ]
    }
   ],
   "source": [
    "print(np.sum(percentiles * np.asarray([1,100]), axis=1))"
   ]
  },
  {
   "cell_type": "markdown",
   "metadata": {},
   "source": [
    "\"We are 80% confident that if a family earned 100 thousands of dollars, they would receive between 16.88 and 22.91 thousands of dollars in gift aid.\""
   ]
  }
 ],
 "metadata": {
  "kernelspec": {
   "display_name": "Python 3",
   "language": "python",
   "name": "python3"
  },
  "language_info": {
   "codemirror_mode": {
    "name": "ipython",
    "version": 3
   },
   "file_extension": ".py",
   "mimetype": "text/x-python",
   "name": "python",
   "nbconvert_exporter": "python",
   "pygments_lexer": "ipython3",
   "version": "3.7.3"
  }
 },
 "nbformat": 4,
 "nbformat_minor": 2
}
