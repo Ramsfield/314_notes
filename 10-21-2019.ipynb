{
 "cells": [
  {
   "cell_type": "code",
   "execution_count": 1,
   "metadata": {},
   "outputs": [],
   "source": [
    "import numpy as np\n",
    "import pandas as pd\n",
    "from scipy.stats import norm as normal, binom\n",
    "import bplot as bp\n",
    "from scipy.optimize import minimize\n",
    "from scipy.special import loggamma"
   ]
  },
  {
   "cell_type": "markdown",
   "metadata": {},
   "source": [
    "# 21 October, 2019"
   ]
  },
  {
   "cell_type": "code",
   "execution_count": 50,
   "metadata": {},
   "outputs": [],
   "source": [
    "def bootstrap(data, R, fun, confidence=95):\n",
    "    N = data.size\n",
    "    thetas = np.full(R, np.nan)\n",
    "    for r in range(R):\n",
    "        idx = np.random.choice(N, N, replace=True)\n",
    "        thetas[r] = fun(data[idx])\n",
    "    return np.percentile(thetas, [(100-confidence)/2, (100-confidence)/2 + confidence])"
   ]
  },
  {
   "cell_type": "code",
   "execution_count": 12,
   "metadata": {},
   "outputs": [
    {
     "name": "stdout",
     "output_type": "stream",
     "text": [
      "Median: 2.291636691714812\n",
      "Interval of 95% confidence: [2.0767195  3.04416565]\n"
     ]
    }
   ],
   "source": [
    "X = np.random.normal(np.pi, 2, size=99)\n",
    "N = X.size\n",
    "print(f\"Median: {np.median(X)}\")\n",
    "R = 1001\n",
    "\n",
    "print(f\"Interval of 95% confidence: {bootstrap(X,R,np.median)}\")"
   ]
  },
  {
   "cell_type": "markdown",
   "metadata": {},
   "source": [
    "The confidence of 95% means that 95% of all confidence intervals (assuming we have an infinite amount of them) will contain the true population parameter, and 5% of them will not"
   ]
  },
  {
   "cell_type": "code",
   "execution_count": 51,
   "metadata": {},
   "outputs": [
    {
     "name": "stdout",
     "output_type": "stream",
     "text": [
      "Percentage of bootstrapped intervals that contained the true population parameter: 0.95\n"
     ]
    },
    {
     "data": {
      "image/png": "[encoded data removed]",
      "text/plain": [
       "<Figure size 432x288 with 1 Axes>"
      ]
     },
     "metadata": {
      "needs_background": "light"
     },
     "output_type": "display_data"
    }
   ],
   "source": [
    "S = 20 # We have S friends\n",
    "R = 1001\n",
    "count = 0\n",
    "bp.line_v(x=np.pi, ymin=0, ymax=S, color=\"black\")\n",
    "CI = np.full((S,2),np.nan)\n",
    "for s in range(S):\n",
    "    X = np.random.normal(np.pi, 2, size=99)\n",
    "    N = X.size\n",
    "    CI[s, :]=bootstrap(X, R, np.median)\n",
    "    if CI[s, 0] < np.pi and CI[s, 1] > np.pi: # If the confidence interval contains the true population parameter\n",
    "        count += 1\n",
    "        bp.line_h(y=s, xmin=CI[s,0], xmax = CI[s,1], alpha = 0.5)\n",
    "    else: # The confidence interval does not contain the true population parameter\n",
    "        bp.line_h(y=s, xmin=CI[s, 0], xmax=CI[s,1], color = \"red\")\n",
    "print(f\"Percentage of bootstrapped intervals that contained the true population parameter: {np.round(count/S, 2)}\")"
   ]
  }
 ],
 "metadata": {
  "kernelspec": {
   "display_name": "Python 3",
   "language": "python",
   "name": "python3"
  },
  "language_info": {
   "codemirror_mode": {
    "name": "ipython",
    "version": 3
   },
   "file_extension": ".py",
   "mimetype": "text/x-python",
   "name": "python",
   "nbconvert_exporter": "python",
   "pygments_lexer": "ipython3",
   "version": "3.7.3"
  }
 },
 "nbformat": 4,
 "nbformat_minor": 2
}
