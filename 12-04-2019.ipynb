{
 "cells": [
  {
   "cell_type": "code",
   "execution_count": 1,
   "metadata": {},
   "outputs": [],
   "source": [
    "import numpy as np\n",
    "import pandas as pd\n",
    "from scipy.stats import norm as normal, binom\n",
    "import bplot as bp\n",
    "from scipy.optimize import minimize\n",
    "from scipy.special import loggamma\n",
    "import patsy\n",
    "import multiprocessing\n",
    "from joblib import Parallel, delayed\n",
    "\n",
    "from math314 import optim, pbootstrap as bootstrap, adjustedR2 as ar2, predict_normal"
   ]
  },
  {
   "cell_type": "markdown",
   "metadata": {},
   "source": [
    "# 4 December 2019"
   ]
  },
  {
   "cell_type": "code",
   "execution_count": 2,
   "metadata": {},
   "outputs": [],
   "source": [
    "df = pd.read_csv(\"https://raw.githubusercontent.com/roualdes/data/master/possum.csv\")"
   ]
  },
  {
   "cell_type": "code",
   "execution_count": 3,
   "metadata": {},
   "outputs": [
    {
     "data": {
      "text/plain": [
       "array([ 8.2614958 , -2.06457808,  0.86431347])"
      ]
     },
     "execution_count": 3,
     "metadata": {},
     "output_type": "execute_result"
    }
   ],
   "source": [
    "X = patsy.dmatrix(\" ~ C(sex) + headL\", data=df)\n",
    "yX = np.c_[df.totalL, X]\n",
    "betahat = optim(yX)\n",
    "betahat"
   ]
  },
  {
   "cell_type": "markdown",
   "metadata": {},
   "source": [
    "$$\\text{totalL}_n\\sim N(\\mu_n, \\sigma^2)$$\n",
    "$$\\mu_n = \\beta_0 + \\beta_1 * \\underline{\\text{Male}} + \\beta_2 * \\text{headL}$$ Where an underlined variable is an indicator\n",
    "\n",
    "So to specifically state the line for Males:\n",
    "$$(\\beta_0 + \\beta_1) + \\beta_2 * \\text{headL}$$\n",
    "Where $\\beta_0 + \\beta_1$ is the intercept for males"
   ]
  },
  {
   "cell_type": "code",
   "execution_count": 4,
   "metadata": {},
   "outputs": [
    {
     "data": {
      "text/plain": [
       "array([-28.72150614,  45.08358854,   1.26565333,  -0.51073335])"
      ]
     },
     "execution_count": 4,
     "metadata": {},
     "output_type": "execute_result"
    }
   ],
   "source": [
    "X = patsy.dmatrix(\" ~ C(sex) + headL + C(sex):headL\", data=df)\n",
    "yX = np.c_[df.totalL, X]\n",
    "betahat = optim(yX)\n",
    "betahat"
   ]
  },
  {
   "cell_type": "markdown",
   "metadata": {},
   "source": [
    "This allows us to give females and males their own slopes within their own lines\n",
    "$$\\mu_n = \\beta_0 + \\beta_1*\\underline{\\text{Male}} + \\beta_2 * \\text{HeadL}_n + \\beta_3*\\text{HeadL}_n*\\underline{\\text{Male}}$$\n",
    "\n",
    "Using our previously attained variables:\n",
    "#### Females\n",
    "$$-28.72 + 1.27\\text{HeadL}_n$$"
   ]
  },
  {
   "cell_type": "code",
   "execution_count": 5,
   "metadata": {},
   "outputs": [
    {
     "data": {
      "text/plain": [
       "85.18729361426995"
      ]
     },
     "execution_count": 5,
     "metadata": {},
     "output_type": "execute_result"
    }
   ],
   "source": [
    "var = 90\n",
    "np.sum(np.asarray([1,0,var,0]) * betahat)"
   ]
  },
  {
   "cell_type": "markdown",
   "metadata": {},
   "source": [
    "If a female possum had a head length of 90mm, we could expect it to have a total length of 85.19cm."
   ]
  },
  {
   "cell_type": "code",
   "execution_count": 6,
   "metadata": {},
   "outputs": [
    {
     "data": {
      "text/plain": [
       "84.30488102434832"
      ]
     },
     "execution_count": 6,
     "metadata": {},
     "output_type": "execute_result"
    }
   ],
   "source": [
    "np.sum(np.asarray([1,1,var,var]) * betahat)"
   ]
  },
  {
   "cell_type": "markdown",
   "metadata": {},
   "source": [
    "If a male possum had a head length of 90mm, we could expect it to have a total length of 84.30cm."
   ]
  },
  {
   "cell_type": "code",
   "execution_count": 18,
   "metadata": {},
   "outputs": [
    {
     "data": {
      "text/plain": [
       "<matplotlib.axes._subplots.AxesSubplot at 0x7f95cad12cf8>"
      ]
     },
     "execution_count": 18,
     "metadata": {},
     "output_type": "execute_result"
    },
    {
     "data": {
      "image/png": "[encoded data removed]",
      "text/plain": [
       "<Figure size 432x288 with 1 Axes>"
      ]
     },
     "metadata": {
      "needs_background": "light"
     },
     "output_type": "display_data"
    }
   ],
   "source": [
    "for i, (name, gdf) in enumerate(df.groupby('sex')):\n",
    "    x = gdf.headL;\n",
    "    bp.point(x, gdf['totalL'], color=bp.color[i], label = name)\n",
    "    idx = df['sex'] == name\n",
    "    bp.line(x, predict_normal(betahat, X[idx, :]), color = bp.color[i])\n",
    "\n",
    "bp.labels(x=\"Head Length (mm)\", y = \"Total Length (cm)\", size = 18)\n",
    "bp.legend()"
   ]
  }
 ],
 "metadata": {
  "kernelspec": {
   "display_name": "Python 3",
   "language": "python",
   "name": "python3"
  },
  "language_info": {
   "codemirror_mode": {
    "name": "ipython",
    "version": 3
   },
   "file_extension": ".py",
   "mimetype": "text/x-python",
   "name": "python",
   "nbconvert_exporter": "python",
   "pygments_lexer": "ipython3",
   "version": "3.7.3"
  }
 },
 "nbformat": 4,
 "nbformat_minor": 2
}
